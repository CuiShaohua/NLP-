{
 "cells": [
  {
   "cell_type": "markdown",
   "metadata": {},
   "source": [
    "## 卷积神经网络"
   ]
  },
  {
   "cell_type": "markdown",
   "metadata": {},
   "source": [
    "* 1 卷积神经网络学到的模式具有平移不变性（translation invariant）。"
   ]
  },
  {
   "cell_type": "markdown",
   "metadata": {},
   "source": [
    "* 2 卷积神经网络可以学到模式的空间层次结构<br />\n",
    ">空间上相邻的像素具有相似的值，RGB的各个通道之间分别有密切的关联性、相距较远的像素之间没有什么关联等。3维形状中可有隐藏有指的提取的本质模式。"
   ]
  },
  {
   "cell_type": "markdown",
   "metadata": {},
   "source": [
    "> 特征图：对于包含两个空间轴（高度和宽度）和一个深度轴（也叫通道轴）的3D张量，其卷积也叫特征图（feature map），RGB的深度轴=3，黑白图像=1。"
   ]
  },
  {
   "cell_type": "markdown",
   "metadata": {},
   "source": [
    "> 输出特征图：特征图经过卷积运算之后，所有图块应用相同的变换，生成输出特征图，该输出特征图仍是一个3D张量，具有宽度和高度，其深度可任意取值，因为输出深度是层的参数。深度轴的不同通道不在像RGB输入那样代表特定颜色，而是代表过滤器。过滤器对输入数据的某一方面进行编码，比如，单个过滤器可以从更高层次编码这样一个概念：“输入中包含一张脸”"
   ]
  },
  {
   "cell_type": "markdown",
   "metadata": {},
   "source": [
    "Q1：相比全连接层，卷积运算的优势在哪？  \n",
    "A1：全连接层会忽视形状，将全部的输入数据作为相同的神经元（同一纬度的神经元）处理，所以无法利用与形状有关的信息。而卷积层可以保持形状不变。当输入数据是图像时，卷积层会以三维数据的形式接收输入数据，并同样以三维数据的形式输出至下一层。因此在CNN中，可以（有可能）正确理解图像等具有形状的数据。"
   ]
  },
  {
   "cell_type": "markdown",
   "metadata": {},
   "source": [
    "Q2：卷积与点积之间的差别？  \n",
    "A2：卷积是相同位置对应的元素乘积之后再求和，点积是矩阵与矩阵的乘法"
   ]
  },
  {
   "cell_type": "markdown",
   "metadata": {},
   "source": [
    "Q3：输入特征图的深度轴（通道）方向怎么计算？  \n",
    "A3： 类似2维卷积运算，使用每一个通道的滤波器进行卷积特征图上对应的图块，最终求和输出"
   ]
  },
  {
   "cell_type": "markdown",
   "metadata": {},
   "source": [
    "Q4：池化处理本质是降维处理"
   ]
  },
  {
   "cell_type": "markdown",
   "metadata": {},
   "source": [
    "Q5：池化层的特征有哪些？  \n",
    "A5：（1）没有要学习的参数；（2）通道数不发生变化；（3）对微小的位置变化具有鲁棒性"
   ]
  },
  {
   "cell_type": "markdown",
   "metadata": {},
   "source": [
    "## Python实现卷积"
   ]
  },
  {
   "cell_type": "markdown",
   "metadata": {},
   "source": [
    "输入特征图：  \n",
    "> x = np.random.rand(10,1,28,28)---产生10个高为28、长为28、通道数为1的数据"
   ]
  },
  {
   "cell_type": "code",
   "execution_count": 2,
   "metadata": {},
   "outputs": [],
   "source": [
    "import numpy as np"
   ]
  },
  {
   "cell_type": "code",
   "execution_count": 3,
   "metadata": {},
   "outputs": [],
   "source": [
    "x = np.random.rand(10,1,28,28)"
   ]
  },
  {
   "cell_type": "code",
   "execution_count": 4,
   "metadata": {},
   "outputs": [
    {
     "data": {
      "text/plain": [
       "(10, 1, 28, 28)"
      ]
     },
     "execution_count": 4,
     "metadata": {},
     "output_type": "execute_result"
    }
   ],
   "source": [
    "x.shape"
   ]
  },
  {
   "cell_type": "markdown",
   "metadata": {},
   "source": [
    "要是访问第一个数据的第1个通道的空间数据，可以写成："
   ]
  },
  {
   "cell_type": "code",
   "execution_count": 5,
   "metadata": {
    "scrolled": false
   },
   "outputs": [
    {
     "data": {
      "text/plain": [
       "array([[2.21503744e-01, 3.66624802e-01, 4.11093932e-01, 6.06922952e-01,\n",
       "        4.23270252e-02, 3.05241915e-01, 4.67229623e-01, 9.32111523e-01,\n",
       "        9.12955504e-01, 2.95763701e-01, 2.88074756e-01, 5.18029433e-01,\n",
       "        2.39207456e-01, 7.63350586e-01, 4.87660078e-01, 9.94554107e-01,\n",
       "        2.86976735e-01, 3.94815334e-01, 5.92998204e-01, 1.08074958e-01,\n",
       "        5.29543602e-01, 6.87897975e-01, 4.04773825e-01, 3.67285302e-01,\n",
       "        3.47254759e-01, 8.79817574e-01, 8.69928287e-01, 3.11680476e-01],\n",
       "       [3.93524107e-01, 7.60465265e-01, 2.58509073e-01, 3.39386720e-02,\n",
       "        6.66752914e-01, 7.96191480e-01, 9.02720505e-01, 9.98647786e-01,\n",
       "        7.13395611e-02, 1.09759114e-01, 5.28057440e-01, 2.63943467e-01,\n",
       "        9.16539367e-01, 8.84508846e-01, 6.18547437e-01, 1.43045113e-01,\n",
       "        6.64480098e-01, 7.40798009e-01, 6.18257517e-01, 6.75431583e-01,\n",
       "        4.45915764e-01, 2.58532743e-01, 4.02629236e-01, 9.15861021e-01,\n",
       "        7.74024828e-01, 6.80010340e-01, 3.89922992e-01, 5.56879057e-01],\n",
       "       [4.70662893e-01, 5.85846848e-01, 1.13658138e-01, 1.04080178e-01,\n",
       "        8.06881041e-01, 2.81140458e-01, 6.31467905e-01, 4.06921287e-01,\n",
       "        4.93711862e-01, 1.05435193e-01, 8.92404604e-01, 5.06989380e-01,\n",
       "        8.22003847e-01, 1.48835440e-02, 9.56830355e-01, 6.85826083e-01,\n",
       "        6.73201724e-01, 2.43018624e-01, 1.01493412e-01, 7.01292758e-01,\n",
       "        7.52298800e-01, 4.89813569e-01, 8.22004031e-01, 3.20203622e-01,\n",
       "        1.42171375e-01, 9.08687151e-02, 1.58780141e-01, 8.81899591e-01],\n",
       "       [6.61845061e-01, 2.09639023e-01, 6.02588862e-01, 1.80893805e-01,\n",
       "        7.23327890e-01, 4.78174665e-01, 9.38022460e-01, 4.91030723e-01,\n",
       "        3.09743519e-02, 4.34641411e-01, 1.25308264e-01, 1.82091006e-01,\n",
       "        8.67617465e-01, 7.32880879e-01, 8.27732797e-01, 9.69357215e-01,\n",
       "        2.93109280e-02, 7.54848818e-02, 2.65973173e-01, 4.74986945e-01,\n",
       "        6.63019195e-01, 4.40854361e-01, 2.73133404e-01, 6.20440701e-01,\n",
       "        5.05771197e-01, 7.89428829e-02, 9.98438050e-01, 4.97928832e-01],\n",
       "       [6.87853769e-01, 9.24253116e-01, 8.49676282e-01, 5.85506961e-01,\n",
       "        5.39314080e-01, 4.45562416e-02, 8.94655426e-02, 5.94190614e-01,\n",
       "        9.37243633e-01, 9.99453617e-02, 5.06512690e-01, 8.76019839e-01,\n",
       "        4.08231031e-01, 9.45831205e-01, 9.91328599e-02, 3.56723561e-01,\n",
       "        9.04225410e-01, 6.71298402e-01, 9.19750760e-01, 7.48526570e-01,\n",
       "        7.72877875e-01, 6.45344495e-01, 9.18008690e-01, 2.24402593e-02,\n",
       "        4.64942282e-02, 3.97170904e-01, 5.48953462e-01, 3.49960808e-01],\n",
       "       [1.84660124e-01, 2.90613811e-01, 6.67585469e-01, 2.73978244e-01,\n",
       "        1.13514280e-01, 6.88917821e-03, 9.50169774e-01, 6.33495789e-01,\n",
       "        3.49204750e-01, 2.88708840e-02, 8.39954344e-01, 9.09597000e-01,\n",
       "        2.55150817e-01, 2.34043298e-01, 2.89291488e-01, 3.38021624e-01,\n",
       "        1.45649958e-01, 5.75380907e-02, 5.64396176e-01, 7.10257307e-01,\n",
       "        9.95772788e-02, 7.82879126e-01, 3.08393947e-01, 4.47409601e-01,\n",
       "        6.37785656e-01, 5.78131474e-01, 9.68862857e-01, 3.55822934e-01],\n",
       "       [8.89386451e-01, 8.77044549e-01, 7.58177264e-01, 2.92095626e-01,\n",
       "        9.53622524e-01, 1.85613455e-01, 2.77429179e-01, 8.38877307e-03,\n",
       "        4.57047950e-01, 9.84472171e-01, 2.98592164e-02, 4.83342389e-01,\n",
       "        3.97997320e-01, 2.93054244e-01, 8.10025065e-01, 7.90004278e-01,\n",
       "        8.78838744e-01, 5.05087775e-01, 2.92811396e-01, 1.99938466e-01,\n",
       "        7.93455722e-01, 7.12613630e-02, 6.54913279e-01, 7.57926224e-01,\n",
       "        9.82886164e-01, 4.47099074e-01, 1.94016538e-01, 6.02864895e-01],\n",
       "       [2.07151807e-01, 5.41340296e-01, 9.76501244e-01, 8.24437356e-01,\n",
       "        9.87868846e-02, 7.34219373e-01, 2.35460090e-01, 9.70770103e-01,\n",
       "        8.23094821e-01, 4.03921752e-01, 1.44283693e-01, 9.42193265e-01,\n",
       "        3.10061757e-01, 6.59667542e-01, 4.10018601e-01, 3.61034528e-01,\n",
       "        5.96920784e-01, 7.64002952e-01, 5.69308083e-01, 4.30142541e-01,\n",
       "        7.86426133e-01, 3.39872220e-01, 5.68494141e-02, 5.65845538e-01,\n",
       "        5.34179932e-01, 5.78137113e-01, 3.96443936e-01, 1.75340882e-02],\n",
       "       [4.40572304e-01, 8.21781567e-01, 1.95771498e-01, 9.66694305e-01,\n",
       "        4.83079272e-01, 8.00641767e-01, 7.87034361e-01, 4.45790152e-01,\n",
       "        3.42978456e-01, 5.48299506e-01, 1.40821835e-01, 4.52586090e-01,\n",
       "        4.14909729e-01, 7.78856924e-01, 9.74361222e-01, 6.14561009e-01,\n",
       "        6.50807650e-01, 5.19760319e-01, 1.41225525e-01, 7.10949342e-01,\n",
       "        6.71181135e-02, 2.52605453e-01, 3.09527917e-01, 5.38268127e-02,\n",
       "        6.38367309e-01, 2.20231213e-01, 9.29129280e-01, 2.68386640e-01],\n",
       "       [7.56008621e-01, 2.07573538e-01, 8.12413850e-01, 6.07394424e-01,\n",
       "        3.27138801e-01, 9.99177122e-01, 6.66991069e-01, 3.69200107e-01,\n",
       "        3.06290829e-01, 2.67870602e-01, 7.04932813e-01, 1.39520931e-01,\n",
       "        1.01753008e-01, 3.48749719e-02, 9.95488412e-01, 6.97184036e-01,\n",
       "        4.09192974e-02, 6.86965164e-01, 6.97612978e-01, 9.88082062e-01,\n",
       "        7.50352515e-01, 6.89611312e-01, 7.21213380e-01, 9.94339239e-01,\n",
       "        8.47369200e-01, 8.45035489e-02, 3.33727908e-01, 7.53412406e-01],\n",
       "       [6.30511380e-02, 6.96720904e-01, 6.10936577e-01, 3.90485905e-01,\n",
       "        4.60817816e-01, 6.28376350e-01, 7.09053847e-01, 1.45722047e-01,\n",
       "        4.08686371e-01, 4.39825868e-01, 2.49291645e-02, 3.71072366e-01,\n",
       "        9.52135760e-01, 8.84342558e-01, 8.10234721e-01, 7.02591979e-01,\n",
       "        8.78186380e-01, 6.49128326e-01, 7.93132220e-02, 1.15142243e-01,\n",
       "        7.83009931e-01, 4.39734583e-01, 5.91353502e-01, 9.16148510e-02,\n",
       "        5.60910293e-01, 7.38767205e-02, 1.30300829e-01, 4.22460266e-01],\n",
       "       [4.88954041e-01, 3.06037605e-01, 4.14311639e-02, 5.90170533e-03,\n",
       "        3.44589486e-02, 2.83286031e-01, 8.43706504e-01, 6.27782897e-02,\n",
       "        8.95572176e-01, 6.69486761e-01, 3.74791149e-01, 2.87815724e-02,\n",
       "        3.44321283e-01, 3.19161061e-02, 6.47160955e-02, 5.90438003e-01,\n",
       "        4.30574566e-01, 2.30676775e-01, 1.68183112e-01, 4.06636354e-01,\n",
       "        2.68252743e-01, 1.52194681e-01, 9.02993594e-01, 3.22538190e-01,\n",
       "        9.43822660e-01, 6.20718071e-01, 3.42517385e-01, 5.35445219e-02],\n",
       "       [4.92270547e-01, 1.80436162e-01, 8.04570313e-01, 8.99491991e-01,\n",
       "        8.10695714e-01, 1.32544382e-02, 4.26047654e-01, 8.23462712e-01,\n",
       "        5.06798526e-01, 4.75098774e-01, 7.53678378e-01, 2.83099243e-01,\n",
       "        4.13366585e-01, 5.70861256e-01, 1.22178549e-02, 3.36221450e-01,\n",
       "        5.77031574e-01, 8.82214567e-01, 7.81202606e-01, 8.55854392e-01,\n",
       "        2.18866658e-01, 8.38972613e-01, 5.25837577e-01, 4.29165726e-01,\n",
       "        5.73521886e-01, 5.80281554e-01, 3.76619020e-02, 2.06975294e-01],\n",
       "       [1.39213596e-01, 3.06928978e-01, 6.80046350e-01, 8.29027609e-01,\n",
       "        6.76441742e-01, 4.39164387e-02, 4.03598347e-01, 8.70161995e-01,\n",
       "        4.46480047e-01, 6.09447901e-01, 8.69292638e-01, 9.49912286e-02,\n",
       "        8.93501439e-01, 9.25486291e-01, 5.33000878e-02, 7.98722285e-01,\n",
       "        9.88986985e-01, 1.11772176e-01, 9.52685504e-03, 6.54703821e-02,\n",
       "        3.23054795e-02, 2.66300915e-01, 3.98045211e-01, 6.14099684e-01,\n",
       "        2.44706270e-01, 2.11480482e-01, 9.76153421e-01, 8.92745399e-01],\n",
       "       [9.08378587e-01, 2.70922253e-01, 4.33647466e-01, 5.46622287e-02,\n",
       "        5.42987740e-01, 4.85158121e-01, 7.56877818e-01, 3.13498367e-01,\n",
       "        2.85920440e-01, 2.65922429e-01, 5.08894769e-01, 1.45623210e-01,\n",
       "        3.53535223e-01, 9.15345943e-01, 4.61523888e-01, 2.56826014e-01,\n",
       "        4.52313910e-01, 2.84003508e-01, 3.49640004e-01, 8.61172268e-01,\n",
       "        4.02397262e-01, 6.55569738e-01, 8.95445262e-01, 6.26021939e-01,\n",
       "        7.86599804e-01, 5.81262719e-01, 8.38363586e-01, 2.86367324e-01],\n",
       "       [6.43967312e-01, 8.74271438e-01, 3.94157814e-01, 1.69915011e-01,\n",
       "        8.73452779e-01, 4.16919406e-01, 7.01951521e-01, 1.03947446e-01,\n",
       "        7.12018077e-01, 6.67301133e-01, 9.30408295e-01, 9.11523283e-01,\n",
       "        5.31166570e-01, 4.14342798e-01, 6.90873755e-01, 8.36134884e-02,\n",
       "        9.34224817e-01, 9.89521304e-01, 3.09964213e-01, 8.14978771e-01,\n",
       "        5.01038531e-01, 1.43179761e-01, 4.07036913e-01, 2.36840401e-01,\n",
       "        6.18801043e-01, 6.66074268e-01, 8.86997004e-01, 1.20104889e-01],\n",
       "       [5.99264977e-01, 6.33562397e-01, 3.47415102e-01, 1.23121474e-01,\n",
       "        6.70976619e-01, 2.28589939e-02, 3.04621294e-01, 5.34170450e-02,\n",
       "        6.50588231e-01, 2.40445137e-01, 7.18281950e-01, 4.74641550e-01,\n",
       "        9.29400058e-01, 6.63464646e-01, 3.66740843e-01, 3.98691123e-01,\n",
       "        5.57177361e-01, 8.19863790e-01, 7.15008465e-01, 1.05880455e-01,\n",
       "        6.49383369e-01, 6.54811061e-01, 3.29594447e-01, 2.24633088e-01,\n",
       "        8.75727802e-01, 4.99069866e-01, 7.85513990e-01, 1.67473069e-01],\n",
       "       [2.72228137e-01, 2.45930414e-01, 3.51684833e-01, 3.90697258e-01,\n",
       "        5.21830983e-01, 1.08828822e-01, 8.25711825e-01, 2.01905924e-02,\n",
       "        4.83431127e-01, 5.00140838e-01, 6.29075383e-01, 9.79869797e-02,\n",
       "        2.94397516e-01, 1.56136748e-01, 9.65841628e-01, 1.19830661e-01,\n",
       "        1.59086136e-01, 4.45897108e-01, 6.05258470e-01, 5.27554626e-01,\n",
       "        5.07336434e-01, 9.22609907e-01, 8.31739629e-02, 9.37182571e-01,\n",
       "        8.84758950e-02, 2.13052040e-01, 9.09446326e-01, 4.78491537e-01],\n",
       "       [6.06279402e-01, 9.12923919e-02, 2.14577992e-01, 4.76593518e-01,\n",
       "        4.80674031e-01, 3.71467173e-01, 6.42881268e-01, 6.55245890e-01,\n",
       "        2.39988685e-01, 1.45356491e-01, 7.86171958e-03, 3.00623945e-01,\n",
       "        7.78673532e-03, 8.22037417e-01, 8.19973516e-01, 6.85915323e-01,\n",
       "        7.72866844e-01, 3.94992373e-01, 5.93770229e-01, 2.95552332e-01,\n",
       "        5.18592262e-01, 6.30495485e-01, 9.89891240e-01, 6.32677565e-01,\n",
       "        3.09356564e-01, 4.55669478e-01, 1.41414551e-01, 5.06785279e-01],\n",
       "       [7.41655654e-01, 9.06809407e-01, 2.09041517e-01, 2.86372315e-01,\n",
       "        8.81871946e-01, 3.78549358e-01, 4.04750913e-01, 6.23250382e-01,\n",
       "        1.41890156e-01, 2.23328985e-01, 4.94369362e-01, 4.98074947e-01,\n",
       "        2.98763619e-01, 3.80248011e-01, 1.90713973e-01, 3.62955753e-01,\n",
       "        6.30266309e-01, 3.77262893e-01, 2.01220268e-01, 6.04538082e-01,\n",
       "        6.23165571e-01, 8.33250724e-01, 1.33695610e-01, 9.25854325e-01,\n",
       "        6.71440527e-01, 3.93583260e-01, 4.14297712e-01, 2.36088393e-01],\n",
       "       [9.31414012e-01, 9.43932137e-02, 4.09579339e-01, 5.95546382e-01,\n",
       "        9.44675474e-01, 6.66383301e-01, 6.65581510e-01, 9.00647110e-02,\n",
       "        8.76149178e-01, 8.02838358e-01, 3.80490512e-01, 4.68946460e-01,\n",
       "        8.97069810e-02, 2.98313973e-01, 2.15316759e-01, 3.46225645e-01,\n",
       "        7.32717320e-01, 9.42142015e-01, 7.31200535e-01, 5.19998055e-01,\n",
       "        4.78990720e-01, 8.36384777e-01, 5.42130486e-04, 4.34707666e-01,\n",
       "        3.70569857e-01, 1.36189017e-01, 8.46632132e-01, 7.76802866e-01],\n",
       "       [3.73486612e-01, 6.04406409e-01, 5.32709614e-02, 4.75840622e-02,\n",
       "        2.32095219e-01, 2.13808801e-01, 8.98025694e-01, 4.53415734e-01,\n",
       "        7.26935242e-02, 2.67039024e-03, 6.82163733e-01, 9.32469516e-01,\n",
       "        4.84554746e-02, 9.02896747e-01, 7.87946064e-02, 7.70796685e-01,\n",
       "        1.05189715e-01, 5.06187729e-02, 6.37532465e-01, 3.59482990e-01,\n",
       "        5.58848103e-02, 5.02815818e-01, 4.13409471e-01, 5.86774918e-01,\n",
       "        2.78453424e-01, 8.14097456e-04, 9.54934236e-01, 2.72254709e-01],\n",
       "       [3.24190213e-01, 3.90755565e-01, 2.77553601e-01, 3.53972810e-01,\n",
       "        6.42398336e-02, 3.92861937e-01, 4.05759213e-01, 3.78660523e-02,\n",
       "        8.48970417e-01, 6.02226058e-01, 7.55906193e-01, 6.24306336e-02,\n",
       "        3.38751847e-01, 5.46412637e-01, 6.26274680e-01, 7.92376006e-01,\n",
       "        6.05824737e-01, 3.26243155e-01, 3.19736397e-01, 4.45473127e-02,\n",
       "        2.08530486e-01, 5.50075067e-01, 6.09898791e-01, 7.11078247e-01,\n",
       "        3.44672451e-01, 3.63288260e-01, 2.37109696e-01, 3.43280659e-01],\n",
       "       [9.21965091e-01, 7.20046132e-01, 1.64196111e-01, 8.69216774e-01,\n",
       "        9.94151984e-01, 2.71194282e-01, 9.32073974e-01, 7.20283076e-01,\n",
       "        5.48724039e-01, 8.39262935e-01, 9.43400625e-01, 6.03223571e-01,\n",
       "        4.21750312e-01, 5.58854315e-01, 4.03117774e-01, 5.52895816e-01,\n",
       "        4.97460436e-01, 1.05057191e-01, 3.50341905e-01, 1.17945877e-01,\n",
       "        9.74712455e-01, 1.51096635e-01, 8.43946135e-01, 1.20250261e-01,\n",
       "        2.50733631e-01, 3.88725702e-01, 9.84850146e-01, 3.16648889e-01],\n",
       "       [6.81878989e-01, 8.39043514e-01, 3.26030743e-01, 2.02569719e-01,\n",
       "        9.66925224e-01, 3.50635849e-01, 8.72797319e-01, 3.09565463e-01,\n",
       "        2.54682224e-01, 7.21006439e-01, 7.52246791e-01, 5.58514317e-01,\n",
       "        7.57114929e-01, 9.54412861e-01, 3.40048893e-01, 6.21838180e-01,\n",
       "        2.74121212e-01, 7.22628165e-01, 2.07674418e-02, 5.44064365e-01,\n",
       "        8.95027207e-01, 5.71593623e-01, 7.51388610e-01, 4.16853110e-01,\n",
       "        5.82358336e-01, 6.20883306e-01, 9.01058470e-01, 2.94182640e-02],\n",
       "       [9.87189696e-01, 8.48607014e-01, 7.43058696e-01, 9.08762353e-02,\n",
       "        8.07740764e-02, 2.35327872e-01, 8.66707570e-01, 6.04356142e-02,\n",
       "        9.46635046e-01, 8.90813342e-01, 3.94351521e-01, 8.05997133e-02,\n",
       "        2.01967458e-01, 8.23007489e-01, 8.01846523e-01, 3.05522957e-01,\n",
       "        4.41077356e-01, 5.21472454e-01, 2.05667440e-01, 2.35284803e-01,\n",
       "        7.08339225e-01, 5.94034846e-01, 2.25814940e-01, 3.70553301e-01,\n",
       "        9.99378746e-01, 9.52712114e-01, 7.53159046e-01, 1.06063482e-01],\n",
       "       [1.75403198e-01, 4.14334202e-01, 2.34686971e-01, 8.86752485e-01,\n",
       "        8.21208120e-01, 6.08039955e-01, 3.33566201e-01, 6.46127375e-01,\n",
       "        4.27465173e-01, 3.15321069e-01, 4.65616492e-01, 8.61973293e-01,\n",
       "        1.24679621e-01, 1.81028662e-01, 9.99193113e-02, 9.48298462e-01,\n",
       "        3.97398541e-02, 8.84322566e-01, 4.29781762e-01, 7.48526863e-01,\n",
       "        1.21392895e-01, 6.74875388e-01, 6.25277442e-01, 8.76730146e-01,\n",
       "        5.11974110e-01, 7.67264084e-01, 6.12079047e-01, 6.29013361e-01],\n",
       "       [2.82287700e-01, 7.78514230e-01, 7.76143022e-01, 2.00403047e-01,\n",
       "        7.66838096e-01, 6.03455117e-01, 4.63660535e-01, 8.45281930e-01,\n",
       "        1.71809810e-01, 8.30152309e-01, 9.07429197e-01, 1.66545510e-01,\n",
       "        5.83976453e-01, 4.18715792e-01, 9.18111706e-02, 1.89514947e-01,\n",
       "        2.54878579e-01, 5.36804991e-01, 3.27242278e-01, 7.90765352e-01,\n",
       "        4.25118540e-01, 3.06940510e-01, 1.87794017e-01, 7.73487470e-01,\n",
       "        2.68676511e-01, 3.76802960e-01, 5.81013183e-02, 1.64303100e-01]])"
      ]
     },
     "execution_count": 5,
     "metadata": {},
     "output_type": "execute_result"
    }
   ],
   "source": [
    "x[0,0]\n",
    "x[0][0]"
   ]
  },
  {
   "cell_type": "markdown",
   "metadata": {},
   "source": [
    " im2col函数将应用滤波器的区域（3维方块）横向展开为1列,横向怎么理解？  \n",
    "> 这是为了使用上矩阵的点积运算，输入特征图进行image to column行展开，滤波器进行image to column列展开，然后就可以使用点积进行卷积的算法。"
   ]
  },
  {
   "cell_type": "code",
   "execution_count": 6,
   "metadata": {},
   "outputs": [],
   "source": [
    "s = np.array([[[[1,2,3],[4,5,6],[7,8,9]]]])"
   ]
  },
  {
   "cell_type": "code",
   "execution_count": 7,
   "metadata": {
    "scrolled": true
   },
   "outputs": [],
   "source": [
    "def im2col(input_data, filter_h, filter_w, stride=1, pad=0):\n",
    "    \"\"\"\n",
    "\n",
    "    Parameters\n",
    "    ----------\n",
    "    input_data : 由(数据量, 通道, 高, 长)的4维数组构成的输入数据\n",
    "    filter_h : 滤波器的高\n",
    "    filter_w : 滤波器的长\n",
    "    stride : 步幅\n",
    "    pad : 填充\n",
    "\n",
    "    Returns\n",
    "    -------\n",
    "    col : 2维数组\n",
    "    \"\"\"\n",
    "    N, C, H, W = input_data.shape\n",
    "    out_h = (H + 2*pad - filter_h)//stride + 1\n",
    "    out_w = (W + 2*pad - filter_w)//stride + 1\n",
    "\n",
    "    img = np.pad(input_data, [(0,0), (0,0), (pad, pad), (pad, pad)], 'constant')\n",
    "    col = np.zeros((N, C, filter_h, filter_w, out_h, out_w))\n",
    "\n",
    "    for y in range(filter_h):\n",
    "        y_max = y + stride*out_h\n",
    "        for x in range(filter_w):\n",
    "            x_max = x + stride*out_w\n",
    "            col[:, :, y, x, :, :] = img[:, :, y:y_max:stride, x:x_max:stride]\n",
    "\n",
    "    col = col.transpose(0, 4, 5, 1, 2, 3).reshape(N*out_h*out_w, -1)\n",
    "    return col"
   ]
  },
  {
   "cell_type": "code",
   "execution_count": 8,
   "metadata": {
    "scrolled": true
   },
   "outputs": [
    {
     "data": {
      "text/plain": [
       "array([[1.],\n",
       "       [2.],\n",
       "       [3.],\n",
       "       [4.],\n",
       "       [5.],\n",
       "       [6.],\n",
       "       [7.],\n",
       "       [8.],\n",
       "       [9.]])"
      ]
     },
     "execution_count": 8,
     "metadata": {},
     "output_type": "execute_result"
    }
   ],
   "source": [
    "im2col(input_data=s,filter_h=1,filter_w=1)"
   ]
  },
  {
   "cell_type": "code",
   "execution_count": 9,
   "metadata": {
    "scrolled": true
   },
   "outputs": [
    {
     "name": "stdout",
     "output_type": "stream",
     "text": [
      "(9, 75)\n"
     ]
    }
   ],
   "source": [
    "x1 = np.random.rand(1,3,7,7)\n",
    "col1 = im2col(input_data=x1,filter_h=5, filter_w=5)\n",
    "print(col1.shape)"
   ]
  },
  {
   "cell_type": "code",
   "execution_count": 10,
   "metadata": {},
   "outputs": [
    {
     "name": "stdout",
     "output_type": "stream",
     "text": [
      "(90, 75)\n"
     ]
    }
   ],
   "source": [
    "x1 = np.random.rand(10,3,7,7)\n",
    "col1 = im2col(input_data=x1,filter_h=5, filter_w=5)\n",
    "print(col1.shape)"
   ]
  },
  {
   "cell_type": "code",
   "execution_count": 11,
   "metadata": {},
   "outputs": [],
   "source": [
    "# 实现卷积层"
   ]
  },
  {
   "cell_type": "code",
   "execution_count": 12,
   "metadata": {},
   "outputs": [],
   "source": [
    "def col2im(col, input_shape, filter_h, filter_w, stride=1, pad=0):\n",
    "    \"\"\"\n",
    "\n",
    "    Parameters\n",
    "    ----------\n",
    "    col :\n",
    "    input_shape : 输入数据的形状（例：(10, 1, 28, 28)）\n",
    "    filter_h :\n",
    "    filter_w\n",
    "    stride\n",
    "    pad\n",
    "\n",
    "    Returns\n",
    "    -------\n",
    "\n",
    "    \"\"\"\n",
    "    N, C, H, W = input_shape\n",
    "    out_h = (H + 2*pad - filter_h)//stride + 1\n",
    "    out_w = (W + 2*pad - filter_w)//stride + 1\n",
    "    col = col.reshape(N, out_h, out_w, C, filter_h, filter_w).transpose(0, 3, 4, 5, 1, 2)\n",
    "\n",
    "    img = np.zeros((N, C, H + 2*pad + stride - 1, W + 2*pad + stride - 1))\n",
    "    for y in range(filter_h):\n",
    "        y_max = y + stride*out_h\n",
    "        for x in range(filter_w):\n",
    "            x_max = x + stride*out_w\n",
    "            img[:, :, y:y_max:stride, x:x_max:stride] += col[:, :, y, x, :, :]\n",
    "\n",
    "    return img[:, :, pad:H + pad, pad:W + pad]"
   ]
  },
  {
   "cell_type": "code",
   "execution_count": 13,
   "metadata": {},
   "outputs": [],
   "source": [
    "    \n",
    "class Convolution:\n",
    "    def __init__(self, W, b, stride=1, pad=0):\n",
    "        self.W = W\n",
    "        self.b = b\n",
    "        self.stride = stride\n",
    "        self.pad = pad\n",
    "        \n",
    "        # 中间数据（backward时使用）\n",
    "        self.x = None   \n",
    "        self.col = None\n",
    "        self.col_W = None\n",
    "        \n",
    "        # 权重和偏置参数的梯度\n",
    "        self.dW = None\n",
    "        self.db = None\n",
    "\n",
    "    def forward(self, x):\n",
    "        FN, C, FH, FW = self.W.shape\n",
    "        N, C, H, W = x.shape\n",
    "        out_h = 1 + int((H + 2*self.pad - FH) / self.stride)\n",
    "        out_w = 1 + int((W + 2*self.pad - FW) / self.stride)\n",
    "\n",
    "        col = im2col(x, FH, FW, self.stride, self.pad)\n",
    "        col_W = self.W.reshape(FN, -1).T\n",
    "\n",
    "        out = np.dot(col, col_W) + self.b\n",
    "        out = out.reshape(N, out_h, out_w, -1).transpose(0, 3, 1, 2)\n",
    "\n",
    "        self.x = x\n",
    "        self.col = col\n",
    "        self.col_W = col_W\n",
    "\n",
    "        return out\n",
    "\n",
    "    def backward(self, dout):\n",
    "        FN, C, FH, FW = self.W.shape\n",
    "        dout = dout.transpose(0,2,3,1).reshape(-1, FN)\n",
    "\n",
    "        self.db = np.sum(dout, axis=0)\n",
    "        self.dW = np.dot(self.col.T, dout)\n",
    "        self.dW = self.dW.transpose(1, 0).reshape(FN, C, FH, FW)\n",
    "\n",
    "        dcol = np.dot(dout, self.col_W.T)\n",
    "        dx = col2im(dcol, self.x.shape, FH, FW, self.stride, self.pad)\n",
    "\n",
    "        return dx\n"
   ]
  },
  {
   "cell_type": "code",
   "execution_count": 14,
   "metadata": {},
   "outputs": [],
   "source": [
    "# 池化层的实现"
   ]
  },
  {
   "cell_type": "code",
   "execution_count": 15,
   "metadata": {},
   "outputs": [],
   "source": [
    "import numpy as np"
   ]
  },
  {
   "cell_type": "code",
   "execution_count": 16,
   "metadata": {},
   "outputs": [],
   "source": [
    "class Pooling:\n",
    "    \n",
    "    def __init__(self, pool_h, pool_w, stride=1,pad=0):\n",
    "        self.pool_h = pool_h\n",
    "        self.pool_w = pool_w\n",
    "        self.stride = stride\n",
    "        self.pad = pad\n",
    "    def forward(self,x):\n",
    "        N,C,H,W = x.shape\n",
    "        out_h = int(1 +(H-self.pool_h)/self.stride)\n",
    "        out_w = int(1 +(W - self.pool_w)/self.stride)\n",
    "        # 展开（1）\n",
    "        col = im2col(x, sel.pool_h, self.pool_w, self.stride, self.pad)\n",
    "        col = col.reshape(-1, self.pool_h * self.pool_w)\n",
    "        # 最大值（2）\n",
    "        col=np.max(col, axis=1)\n",
    "        # 转换形状\n",
    "        out = col.reshape(N, out_h, out_w, C).tranpose(0,3,1,2)\n",
    "        return out"
   ]
  },
  {
   "cell_type": "code",
   "execution_count": 17,
   "metadata": {},
   "outputs": [],
   "source": [
    "# simpleConvNet"
   ]
  },
  {
   "cell_type": "code",
   "execution_count": 18,
   "metadata": {},
   "outputs": [],
   "source": [
    "class SimpleConvNet:\n",
    "    \"\"\"简单的ConvNet\n",
    "\n",
    "    conv - relu - pool - affine - relu - affine - softmax\n",
    "    \n",
    "    Parameters\n",
    "    ----------\n",
    "    input_size : 输入大小（MNIST的情况下为784）\n",
    "    hidden_size_list : 隐藏层的神经元数量的列表（e.g. [100, 100, 100]）\n",
    "    output_size : 输出大小（MNIST的情况下为10）\n",
    "    activation : 'relu' or 'sigmoid'\n",
    "    weight_init_std : 指定权重的标准差（e.g. 0.01）\n",
    "        指定'relu'或'he'的情况下设定“He的初始值”\n",
    "        指定'sigmoid'或'xavier'的情况下设定“Xavier的初始值”\n",
    "    \"\"\"\n",
    "    def __init__(self, input_dim=(1, 28, 28), \n",
    "                 conv_param={'filter_num':30, 'filter_size':5, 'pad':0, 'stride':1},\n",
    "                 hidden_size=100, output_size=10, weight_init_std=0.01):\n",
    "        filter_num = conv_param['filter_num']\n",
    "        filter_size = conv_param['filter_size']\n",
    "        filter_pad = conv_param['pad']\n",
    "        filter_stride = conv_param['stride']\n",
    "        input_size = input_dim[1]\n",
    "        conv_output_size = (input_size - filter_size + 2*filter_pad) / filter_stride + 1\n",
    "        pool_output_size = int(filter_num * (conv_output_size/2) * (conv_output_size/2))\n",
    "\n",
    "        # 初始化权重\n",
    "        self.params = {}\n",
    "        self.params['W1'] = weight_init_std * \\\n",
    "                            np.random.randn(filter_num, input_dim[0], filter_size, filter_size)\n",
    "        self.params['b1'] = np.zeros(filter_num)\n",
    "        self.params['W2'] = weight_init_std * \\\n",
    "                            np.random.randn(pool_output_size, hidden_size)\n",
    "        self.params['b2'] = np.zeros(hidden_size)\n",
    "        self.params['W3'] = weight_init_std * \\\n",
    "                            np.random.randn(hidden_size, output_size)\n",
    "        self.params['b3'] = np.zeros(output_size)\n",
    "\n",
    "        # 生成层\n",
    "        self.layers = OrderedDict()\n",
    "        self.layers['Conv1'] = Convolution(self.params['W1'], self.params['b1'],\n",
    "                                           conv_param['stride'], conv_param['pad'])\n",
    "        self.layers['Relu1'] = Relu()\n",
    "        self.layers['Pool1'] = Pooling(pool_h=2, pool_w=2, stride=2)\n",
    "        self.layers['Affine1'] = Affine(self.params['W2'], self.params['b2'])\n",
    "        self.layers['Relu2'] = Relu()\n",
    "        self.layers['Affine2'] = Affine(self.params['W3'], self.params['b3'])\n",
    "\n",
    "        self.last_layer = SoftmaxWithLoss()\n",
    "\n",
    "    def predict(self, x):\n",
    "        for layer in self.layers.values():\n",
    "            x = layer.forward(x)\n",
    "\n",
    "        return x\n",
    "\n",
    "    def loss(self, x, t):\n",
    "        \"\"\"求损失函数\n",
    "        参数x是输入数据、t是教师标签\n",
    "        \"\"\"\n",
    "        y = self.predict(x)\n",
    "        return self.last_layer.forward(y, t)\n",
    "\n",
    "    def accuracy(self, x, t, batch_size=100):\n",
    "        if t.ndim != 1 : t = np.argmax(t, axis=1)\n",
    "        \n",
    "        acc = 0.0\n",
    "        \n",
    "        for i in range(int(x.shape[0] / batch_size)):\n",
    "            tx = x[i*batch_size:(i+1)*batch_size]\n",
    "            tt = t[i*batch_size:(i+1)*batch_size]\n",
    "            y = self.predict(tx)\n",
    "            y = np.argmax(y, axis=1)\n",
    "            acc += np.sum(y == tt) \n",
    "        \n",
    "        return acc / x.shape[0]\n",
    "\n",
    "    def numerical_gradient(self, x, t):\n",
    "        \"\"\"求梯度（数值微分）\n",
    "\n",
    "        Parameters\n",
    "        ----------\n",
    "        x : 输入数据\n",
    "        t : 教师标签\n",
    "\n",
    "        Returns\n",
    "        -------\n",
    "        具有各层的梯度的字典变量\n",
    "            grads['W1']、grads['W2']、...是各层的权重\n",
    "            grads['b1']、grads['b2']、...是各层的偏置\n",
    "        \"\"\"\n",
    "        loss_w = lambda w: self.loss(x, t)\n",
    "\n",
    "        grads = {}\n",
    "        for idx in (1, 2, 3):\n",
    "            grads['W' + str(idx)] = numerical_gradient(loss_w, self.params['W' + str(idx)])\n",
    "            grads['b' + str(idx)] = numerical_gradient(loss_w, self.params['b' + str(idx)])\n",
    "\n",
    "        return grads\n",
    "\n",
    "    def gradient(self, x, t):\n",
    "        \"\"\"求梯度（误差反向传播法）\n",
    "\n",
    "        Parameters\n",
    "        ----------\n",
    "        x : 输入数据\n",
    "        t : 教师标签\n",
    "\n",
    "        Returns\n",
    "        -------\n",
    "        具有各层的梯度的字典变量\n",
    "            grads['W1']、grads['W2']、...是各层的权重\n",
    "            grads['b1']、grads['b2']、...是各层的偏置\n",
    "        \"\"\"\n",
    "        # forward\n",
    "        self.loss(x, t)\n",
    "\n",
    "        # backward\n",
    "        dout = 1\n",
    "        dout = self.last_layer.backward(dout)\n",
    "\n",
    "        layers = list(self.layers.values())\n",
    "        layers.reverse()\n",
    "        for layer in layers:\n",
    "            dout = layer.backward(dout)\n",
    "\n",
    "        # 设定\n",
    "        grads = {}\n",
    "        grads['W1'], grads['b1'] = self.layers['Conv1'].dW, self.layers['Conv1'].db\n",
    "        grads['W2'], grads['b2'] = self.layers['Affine1'].dW, self.layers['Affine1'].db\n",
    "        grads['W3'], grads['b3'] = self.layers['Affine2'].dW, self.layers['Affine2'].db\n",
    "\n",
    "        return grads\n",
    "        \n",
    "    def save_params(self, file_name=\"params.pkl\"):\n",
    "        params = {}\n",
    "        for key, val in self.params.items():\n",
    "            params[key] = val\n",
    "        with open(file_name, 'wb') as f:\n",
    "            pickle.dump(params, f)\n",
    "\n",
    "    def load_params(self, file_name=\"params.pkl\"):\n",
    "        with open(file_name, 'rb') as f:\n",
    "            params = pickle.load(f)\n",
    "        for key, val in params.items():\n",
    "            self.params[key] = val\n",
    "\n",
    "        for i, key in enumerate(['Conv1', 'Affine1', 'Affine2']):\n",
    "            self.layers[key].W = self.params['W' + str(i+1)]\n",
    "            self.layers[key].b = self.params['b' + str(i+1)]"
   ]
  },
  {
   "cell_type": "code",
   "execution_count": 19,
   "metadata": {},
   "outputs": [
    {
     "name": "stderr",
     "output_type": "stream",
     "text": [
      "Using TensorFlow backend.\n"
     ]
    }
   ],
   "source": [
    "from keras import regularizers"
   ]
  },
  {
   "cell_type": "code",
   "execution_count": 20,
   "metadata": {},
   "outputs": [],
   "source": [
    "f = np.random.randn(2,2)"
   ]
  },
  {
   "cell_type": "code",
   "execution_count": 21,
   "metadata": {},
   "outputs": [
    {
     "data": {
      "text/plain": [
       "array([[ 1.08450782, -0.90835725],\n",
       "       [-0.61847157, -0.78347028]])"
      ]
     },
     "execution_count": 21,
     "metadata": {},
     "output_type": "execute_result"
    }
   ],
   "source": [
    "f"
   ]
  },
  {
   "cell_type": "code",
   "execution_count": 22,
   "metadata": {},
   "outputs": [],
   "source": [
    "from keras import layers\n",
    "from keras import models"
   ]
  },
  {
   "cell_type": "code",
   "execution_count": 27,
   "metadata": {},
   "outputs": [],
   "source": [
    "model = models.Sequential()"
   ]
  },
  {
   "cell_type": "code",
   "execution_count": 28,
   "metadata": {},
   "outputs": [],
   "source": [
    "model.add(layers.Conv2D(32,(3,3),activation='relu', input_shape=(28, 28,1)))"
   ]
  },
  {
   "cell_type": "code",
   "execution_count": 29,
   "metadata": {},
   "outputs": [
    {
     "name": "stdout",
     "output_type": "stream",
     "text": [
      "Model: \"sequential_2\"\n",
      "_________________________________________________________________\n",
      "Layer (type)                 Output Shape              Param #   \n",
      "=================================================================\n",
      "conv2d_1 (Conv2D)            (None, 26, 26, 32)        320       \n",
      "=================================================================\n",
      "Total params: 320\n",
      "Trainable params: 320\n",
      "Non-trainable params: 0\n",
      "_________________________________________________________________\n"
     ]
    }
   ],
   "source": [
    "model.summary()"
   ]
  },
  {
   "cell_type": "code",
   "execution_count": 30,
   "metadata": {},
   "outputs": [
    {
     "name": "stdout",
     "output_type": "stream",
     "text": [
      "WARNING:tensorflow:From D:\\Anaconda3\\lib\\site-packages\\keras\\backend\\tensorflow_backend.py:4070: The name tf.nn.max_pool is deprecated. Please use tf.nn.max_pool2d instead.\n",
      "\n"
     ]
    }
   ],
   "source": [
    "model.add(layers.MaxPooling2D((2,2)))"
   ]
  },
  {
   "cell_type": "code",
   "execution_count": 31,
   "metadata": {},
   "outputs": [
    {
     "name": "stdout",
     "output_type": "stream",
     "text": [
      "Model: \"sequential_2\"\n",
      "_________________________________________________________________\n",
      "Layer (type)                 Output Shape              Param #   \n",
      "=================================================================\n",
      "conv2d_1 (Conv2D)            (None, 26, 26, 32)        320       \n",
      "_________________________________________________________________\n",
      "max_pooling2d_1 (MaxPooling2 (None, 13, 13, 32)        0         \n",
      "=================================================================\n",
      "Total params: 320\n",
      "Trainable params: 320\n",
      "Non-trainable params: 0\n",
      "_________________________________________________________________\n"
     ]
    }
   ],
   "source": [
    "model.summary()"
   ]
  },
  {
   "cell_type": "code",
   "execution_count": 32,
   "metadata": {},
   "outputs": [],
   "source": [
    "model.add(layers.Conv2D(64, (3,3), activation='relu'))"
   ]
  },
  {
   "cell_type": "code",
   "execution_count": 33,
   "metadata": {},
   "outputs": [
    {
     "name": "stdout",
     "output_type": "stream",
     "text": [
      "Model: \"sequential_2\"\n",
      "_________________________________________________________________\n",
      "Layer (type)                 Output Shape              Param #   \n",
      "=================================================================\n",
      "conv2d_1 (Conv2D)            (None, 26, 26, 32)        320       \n",
      "_________________________________________________________________\n",
      "max_pooling2d_1 (MaxPooling2 (None, 13, 13, 32)        0         \n",
      "_________________________________________________________________\n",
      "conv2d_2 (Conv2D)            (None, 11, 11, 64)        18496     \n",
      "=================================================================\n",
      "Total params: 18,816\n",
      "Trainable params: 18,816\n",
      "Non-trainable params: 0\n",
      "_________________________________________________________________\n"
     ]
    }
   ],
   "source": [
    "model.summary()"
   ]
  },
  {
   "cell_type": "code",
   "execution_count": 34,
   "metadata": {},
   "outputs": [],
   "source": [
    "model.add(layers.MaxPooling2D((2,2)))"
   ]
  },
  {
   "cell_type": "code",
   "execution_count": 35,
   "metadata": {},
   "outputs": [
    {
     "name": "stdout",
     "output_type": "stream",
     "text": [
      "Model: \"sequential_2\"\n",
      "_________________________________________________________________\n",
      "Layer (type)                 Output Shape              Param #   \n",
      "=================================================================\n",
      "conv2d_1 (Conv2D)            (None, 26, 26, 32)        320       \n",
      "_________________________________________________________________\n",
      "max_pooling2d_1 (MaxPooling2 (None, 13, 13, 32)        0         \n",
      "_________________________________________________________________\n",
      "conv2d_2 (Conv2D)            (None, 11, 11, 64)        18496     \n",
      "_________________________________________________________________\n",
      "max_pooling2d_2 (MaxPooling2 (None, 5, 5, 64)          0         \n",
      "=================================================================\n",
      "Total params: 18,816\n",
      "Trainable params: 18,816\n",
      "Non-trainable params: 0\n",
      "_________________________________________________________________\n"
     ]
    }
   ],
   "source": [
    "model.summary()"
   ]
  },
  {
   "cell_type": "code",
   "execution_count": 36,
   "metadata": {},
   "outputs": [],
   "source": [
    "model.add(layers.Conv2D(64, (3,3), activation='relu'))"
   ]
  },
  {
   "cell_type": "code",
   "execution_count": 37,
   "metadata": {},
   "outputs": [
    {
     "name": "stdout",
     "output_type": "stream",
     "text": [
      "Model: \"sequential_2\"\n",
      "_________________________________________________________________\n",
      "Layer (type)                 Output Shape              Param #   \n",
      "=================================================================\n",
      "conv2d_1 (Conv2D)            (None, 26, 26, 32)        320       \n",
      "_________________________________________________________________\n",
      "max_pooling2d_1 (MaxPooling2 (None, 13, 13, 32)        0         \n",
      "_________________________________________________________________\n",
      "conv2d_2 (Conv2D)            (None, 11, 11, 64)        18496     \n",
      "_________________________________________________________________\n",
      "max_pooling2d_2 (MaxPooling2 (None, 5, 5, 64)          0         \n",
      "_________________________________________________________________\n",
      "conv2d_3 (Conv2D)            (None, 3, 3, 64)          36928     \n",
      "=================================================================\n",
      "Total params: 55,744\n",
      "Trainable params: 55,744\n",
      "Non-trainable params: 0\n",
      "_________________________________________________________________\n"
     ]
    }
   ],
   "source": [
    "model.summary()"
   ]
  },
  {
   "cell_type": "code",
   "execution_count": 38,
   "metadata": {},
   "outputs": [],
   "source": [
    "from keras.datasets import mnist\n",
    "from keras.utils import to_categorical"
   ]
  },
  {
   "cell_type": "code",
   "execution_count": 39,
   "metadata": {},
   "outputs": [],
   "source": [
    "from keras import layers, models"
   ]
  },
  {
   "cell_type": "code",
   "execution_count": 40,
   "metadata": {},
   "outputs": [],
   "source": [
    "model = models.Sequential()\n",
    "model.add(layers.Conv2D(32, (3,3), activation='relu', input_shape=(28,28, 1)))"
   ]
  },
  {
   "cell_type": "code",
   "execution_count": 41,
   "metadata": {
    "scrolled": true
   },
   "outputs": [],
   "source": [
    "model.add(layers.MaxPooling2D((2, 2)))"
   ]
  },
  {
   "cell_type": "code",
   "execution_count": 42,
   "metadata": {},
   "outputs": [],
   "source": [
    "model.add(layers.Conv2D(64, (3,3), activation='relu'))"
   ]
  },
  {
   "cell_type": "code",
   "execution_count": 43,
   "metadata": {},
   "outputs": [],
   "source": [
    "model.add(layers.MaxPool2D((2, 2)))"
   ]
  },
  {
   "cell_type": "code",
   "execution_count": 44,
   "metadata": {},
   "outputs": [],
   "source": [
    "model.add(layers.Conv2D(64, (3,3), activation='relu'))"
   ]
  },
  {
   "cell_type": "code",
   "execution_count": 45,
   "metadata": {},
   "outputs": [],
   "source": [
    "# 将3D输出展平为1D，然后再上面添加几个Dense层"
   ]
  },
  {
   "cell_type": "code",
   "execution_count": 46,
   "metadata": {},
   "outputs": [],
   "source": [
    "model.add(layers.Flatten())"
   ]
  },
  {
   "cell_type": "code",
   "execution_count": 47,
   "metadata": {},
   "outputs": [],
   "source": [
    "model.add(layers.Dense(64, activation='relu'))"
   ]
  },
  {
   "cell_type": "code",
   "execution_count": 48,
   "metadata": {},
   "outputs": [],
   "source": [
    "model.add(layers.Dense(10, activation='softmax'))"
   ]
  },
  {
   "cell_type": "code",
   "execution_count": 49,
   "metadata": {},
   "outputs": [],
   "source": [
    "from keras.datasets import mnist\n",
    "from keras.utils import to_categorical"
   ]
  },
  {
   "cell_type": "code",
   "execution_count": 50,
   "metadata": {},
   "outputs": [],
   "source": [
    "(train_images, train_labels), (test_images, test_labels) = mnist.load_data()"
   ]
  },
  {
   "cell_type": "code",
   "execution_count": 51,
   "metadata": {},
   "outputs": [],
   "source": [
    "train_images = train_images.reshape((60000, 28, 28,1))"
   ]
  },
  {
   "cell_type": "code",
   "execution_count": 52,
   "metadata": {},
   "outputs": [
    {
     "data": {
      "text/plain": [
       "(60000, 28, 28, 1)"
      ]
     },
     "execution_count": 52,
     "metadata": {},
     "output_type": "execute_result"
    }
   ],
   "source": [
    "train_images.shape"
   ]
  },
  {
   "cell_type": "code",
   "execution_count": 53,
   "metadata": {},
   "outputs": [],
   "source": [
    "train_images = train_images.astype('float32') / 255"
   ]
  },
  {
   "cell_type": "code",
   "execution_count": 54,
   "metadata": {},
   "outputs": [
    {
     "data": {
      "text/plain": [
       "array([[[0.        ],\n",
       "        [0.        ],\n",
       "        [0.        ],\n",
       "        [0.        ],\n",
       "        [0.        ],\n",
       "        [0.        ],\n",
       "        [0.        ],\n",
       "        [0.        ],\n",
       "        [0.11764706],\n",
       "        [0.14117648],\n",
       "        [0.36862746],\n",
       "        [0.6039216 ],\n",
       "        [0.6666667 ],\n",
       "        [0.99215686],\n",
       "        [0.99215686],\n",
       "        [0.99215686],\n",
       "        [0.99215686],\n",
       "        [0.99215686],\n",
       "        [0.88235295],\n",
       "        [0.6745098 ],\n",
       "        [0.99215686],\n",
       "        [0.9490196 ],\n",
       "        [0.7647059 ],\n",
       "        [0.2509804 ],\n",
       "        [0.        ],\n",
       "        [0.        ],\n",
       "        [0.        ],\n",
       "        [0.        ]]], dtype=float32)"
      ]
     },
     "execution_count": 54,
     "metadata": {},
     "output_type": "execute_result"
    }
   ],
   "source": [
    "train_images[0][6:7]"
   ]
  },
  {
   "cell_type": "code",
   "execution_count": 55,
   "metadata": {},
   "outputs": [],
   "source": [
    "train_labels = to_categorical(train_labels)"
   ]
  },
  {
   "cell_type": "markdown",
   "metadata": {},
   "source": [
    "由[0-9]的list改成one-hot形式"
   ]
  },
  {
   "cell_type": "code",
   "execution_count": 56,
   "metadata": {},
   "outputs": [
    {
     "data": {
      "text/plain": [
       "array([0., 0., 0., 0., 0., 1., 0., 0., 0., 0.], dtype=float32)"
      ]
     },
     "execution_count": 56,
     "metadata": {},
     "output_type": "execute_result"
    }
   ],
   "source": [
    "train_labels[0]"
   ]
  },
  {
   "cell_type": "code",
   "execution_count": 57,
   "metadata": {},
   "outputs": [],
   "source": [
    "a = [14,5,6,7,8,9,0]"
   ]
  },
  {
   "cell_type": "code",
   "execution_count": 58,
   "metadata": {},
   "outputs": [
    {
     "data": {
      "text/plain": [
       "(7, 15)"
      ]
     },
     "execution_count": 58,
     "metadata": {},
     "output_type": "execute_result"
    }
   ],
   "source": [
    "to_categorical(a).shape"
   ]
  },
  {
   "cell_type": "code",
   "execution_count": 59,
   "metadata": {},
   "outputs": [],
   "source": [
    "test_labels = to_categorical(test_labels)"
   ]
  },
  {
   "cell_type": "code",
   "execution_count": 60,
   "metadata": {
    "scrolled": true
   },
   "outputs": [
    {
     "name": "stdout",
     "output_type": "stream",
     "text": [
      "WARNING:tensorflow:From D:\\Anaconda3\\lib\\site-packages\\keras\\backend\\tensorflow_backend.py:422: The name tf.global_variables is deprecated. Please use tf.compat.v1.global_variables instead.\n",
      "\n",
      "Epoch 1/5\n",
      "60000/60000 [==============================] - 41s 689us/step - loss: 0.1818 - accuracy: 0.9430\n",
      "Epoch 2/5\n",
      "60000/60000 [==============================] - 46s 774us/step - loss: 0.0461 - accuracy: 0.9854\n",
      "Epoch 3/5\n",
      "60000/60000 [==============================] - 43s 722us/step - loss: 0.0324 - accuracy: 0.9898\n",
      "Epoch 4/5\n",
      "60000/60000 [==============================] - 46s 763us/step - loss: 0.0243 - accuracy: 0.9927\n",
      "Epoch 5/5\n",
      "60000/60000 [==============================] - 46s 760us/step - loss: 0.0191 - accuracy: 0.9942s - loss: 0.0191 - accu\n"
     ]
    },
    {
     "data": {
      "text/plain": [
       "<keras.callbacks.callbacks.History at 0x248823dacf8>"
      ]
     },
     "execution_count": 60,
     "metadata": {},
     "output_type": "execute_result"
    }
   ],
   "source": [
    "model.compile(optimizer='rmsprop',\n",
    "             loss='categorical_crossentropy',\n",
    "             metrics=['accuracy'])\n",
    "model.fit(train_images, train_labels, epochs=5, batch_size=64)"
   ]
  },
  {
   "cell_type": "markdown",
   "metadata": {},
   "source": [
    "#### 验证训练之后的准确度"
   ]
  },
  {
   "cell_type": "code",
   "execution_count": 61,
   "metadata": {},
   "outputs": [],
   "source": [
    "test_images =test_images.reshape((10000, 28, 28, 1))"
   ]
  },
  {
   "cell_type": "code",
   "execution_count": 62,
   "metadata": {},
   "outputs": [],
   "source": [
    "test_images = test_images.astype('float32') / 255"
   ]
  },
  {
   "cell_type": "code",
   "execution_count": 63,
   "metadata": {
    "scrolled": true
   },
   "outputs": [
    {
     "name": "stdout",
     "output_type": "stream",
     "text": [
      "10000/10000 [==============================] - 3s 344us/step\n"
     ]
    }
   ],
   "source": [
    "test_loss, test_acc = model.evaluate(test_images, test_labels)"
   ]
  },
  {
   "cell_type": "code",
   "execution_count": 64,
   "metadata": {
    "scrolled": true
   },
   "outputs": [
    {
     "data": {
      "text/plain": [
       "0.9918000102043152"
      ]
     },
     "execution_count": 64,
     "metadata": {},
     "output_type": "execute_result"
    }
   ],
   "source": [
    "test_acc"
   ]
  },
  {
   "cell_type": "markdown",
   "metadata": {},
   "source": [
    "#### 结论：CNN较2层的全连接更容易实现照片信息的处理"
   ]
  },
  {
   "cell_type": "markdown",
   "metadata": {},
   "source": [
    "### 也可以进行结果的展示"
   ]
  },
  {
   "cell_type": "code",
   "execution_count": null,
   "metadata": {},
   "outputs": [],
   "source": []
  },
  {
   "cell_type": "code",
   "execution_count": 70,
   "metadata": {},
   "outputs": [],
   "source": [
    "from PIL import Image"
   ]
  },
  {
   "cell_type": "code",
   "execution_count": 107,
   "metadata": {},
   "outputs": [],
   "source": [
    "test_images.dtype = \"float32\""
   ]
  },
  {
   "cell_type": "code",
   "execution_count": 108,
   "metadata": {},
   "outputs": [],
   "source": [
    "images = test_images"
   ]
  },
  {
   "cell_type": "code",
   "execution_count": 109,
   "metadata": {
    "scrolled": true
   },
   "outputs": [
    {
     "name": "stdout",
     "output_type": "stream",
     "text": [
      "(28, 28, 1)\n"
     ]
    }
   ],
   "source": [
    "for i in images:\n",
    "    print(i.shape)\n",
    "    break"
   ]
  },
  {
   "cell_type": "code",
   "execution_count": 119,
   "metadata": {},
   "outputs": [],
   "source": [
    "images.dtype = \"float32\""
   ]
  },
  {
   "cell_type": "code",
   "execution_count": 120,
   "metadata": {},
   "outputs": [
    {
     "data": {
      "text/plain": [
       "dtype('float32')"
      ]
     },
     "execution_count": 120,
     "metadata": {},
     "output_type": "execute_result"
    }
   ],
   "source": [
    "images.dtype"
   ]
  },
  {
   "cell_type": "code",
   "execution_count": 122,
   "metadata": {},
   "outputs": [],
   "source": [
    "for i in range(images.shape[0]):\n",
    "    if i % 1000 == 0:\n",
    "        Image.fromarray(images[i].reshape((28,28)), mode=\"L\").save(\"./result\"+str(i)+\".png\")"
   ]
  },
  {
   "cell_type": "code",
   "execution_count": 126,
   "metadata": {
    "scrolled": true
   },
   "outputs": [],
   "source": [
    "%matplotlib notebook"
   ]
  },
  {
   "cell_type": "code",
   "execution_count": null,
   "metadata": {},
   "outputs": [],
   "source": []
  }
 ],
 "metadata": {
  "kernelspec": {
   "display_name": "Python 3",
   "language": "python",
   "name": "python3"
  },
  "language_info": {
   "codemirror_mode": {
    "name": "ipython",
    "version": 3
   },
   "file_extension": ".py",
   "mimetype": "text/x-python",
   "name": "python",
   "nbconvert_exporter": "python",
   "pygments_lexer": "ipython3",
   "version": "3.7.3"
  }
 },
 "nbformat": 4,
 "nbformat_minor": 2
}
