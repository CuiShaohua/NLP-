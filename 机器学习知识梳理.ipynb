{
 "cells": [
  {
   "cell_type": "markdown",
   "metadata": {},
   "source": [
    "# 梳理机器学习的基础内容"
   ]
  },
  {
   "cell_type": "markdown",
   "metadata": {},
   "source": [
    "## 1```损失函数整理```"
   ]
  },
  {
   "cell_type": "markdown",
   "metadata": {},
   "source": [
    "* 均方差:\n",
    "    $$ MSE = \\frac{1}{2m}\\sum_{i=0}^{m}(y_{i} - y_{t})^2$$"
   ]
  },
  {
   "cell_type": "code",
   "execution_count": 15,
   "metadata": {},
   "outputs": [],
   "source": [
    "import numpy as np"
   ]
  },
  {
   "cell_type": "code",
   "execution_count": 16,
   "metadata": {},
   "outputs": [],
   "source": [
    "def MSE(y, t):\n",
    "    return 0.5* 1 / len(y)* np.sum((y - t)**2)"
   ]
  },
  {
   "cell_type": "code",
   "execution_count": 17,
   "metadata": {},
   "outputs": [
    {
     "data": {
      "text/plain": [
       "0.42857142857142855"
      ]
     },
     "execution_count": 17,
     "metadata": {},
     "output_type": "execute_result"
    }
   ],
   "source": [
    "y = np.array([1,2,3,4,5,6,7])\n",
    "t = np.array([2,3,4,5,6,7,7])\n",
    "MSE(y,t)"
   ]
  },
  {
   "cell_type": "markdown",
   "metadata": {},
   "source": [
    "适用范围: \n",
    "> * (1) 线性回归"
   ]
  },
  {
   "cell_type": "markdown",
   "metadata": {},
   "source": [
    "* 交叉熵 cross_entropy:  \n",
    "    $$ cross-entropy = - \\sum_{k=0}^{n} t_k * \\log y_k $$"
   ]
  },
  {
   "cell_type": "markdown",
   "metadata": {},
   "source": [
    "* 交叉熵刻画的是两个概率分布的距离，也就是说交叉熵值越小（相对熵的值越小），两个概率分布越接近  \n",
    "* 最小化交叉熵等于最小化KL距离  "
   ]
  },
  {
   "cell_type": "markdown",
   "metadata": {},
   "source": [
    "补充几个概念方便理解交叉熵：  \n",
    ">（1）信息量：越不容易发生的事情包含的信息量越大\n",
    "$$ I(x) = \\log {\\frac{1}{p(x)}} $$\n",
    "或\n",
    "$$ I(x) = - \\log {{p(x)}} $$"
   ]
  },
  {
   "cell_type": "markdown",
   "metadata": {},
   "source": [
    ">（2）期望：某件事情发生的可能性有n种，那么这个事件的实际期望（熵是用来表示所有信息量的期望）：  \n",
    "$$ H(X) = \\sum _{i=1} ^{n}{{p(x_i)}*\\log{p(x_i)}}$$ \n",
    "而0-1分布问题里，只有两种情况(p(x=0)和p(x=1))，所有结果可以写成  \n",
    "$$ H(X) = -p(x_{x=0})*log(p(x_{x=0}))-(1-p(x_{x=0}))log(1-p(x_{x=0}))$$"
   ]
  },
  {
   "cell_type": "markdown",
   "metadata": {},
   "source": [
    ">* (3)相对熵（KL散度）  \n",
    "> 两个独立的概率分布P(X)和Q(X)，可以用KL散度进行衡量  \n",
    "$$ D_{KL}(p||q) = \\sum _{i=1}^{n}p(x_i)\\log{\\frac{p(x_i)}{q{(x_i)}}}$$  \n",
    ">> P(x)一般为机器学习中的标签表示，Q(X)一般是预测的结果  "
   ]
  },
  {
   "cell_type": "markdown",
   "metadata": {},
   "source": [
    "> * （4）交叉熵\n",
    "> ? 为什么选择交叉熵？  \n",
    "> 由KL散度公式展开可得，\n",
    "$$ D_{KL}(p||q) = \\sum_{i=1}^{n}p(x_i)*\\log{p(x_i)} - \\sum_{i=1}^{n}p(x_i) *\\log {q(x_i)}$$ <br/>\n",
    "$$= -H(p(x)) + [-\\sum_{i=1}^{n}p(x_i)\\log{q(x_i)}] $$\n",
    "        "
   ]
  },
  {
   "cell_type": "markdown",
   "metadata": {},
   "source": [
    "> H(p(x))是P(X)的熵，等式的后一部分就是交叉熵，即  "
   ]
  },
  {
   "cell_type": "markdown",
   "metadata": {},
   "source": [
    "$$ H(p,q) = -\\sum_{i=1}^{n}p(x_i) * \\log{q(x_i)}$$"
   ]
  },
  {
   "cell_type": "markdown",
   "metadata": {},
   "source": [
    "> 机器学习中很明显，H(p(x))是不变的一部分，而H(p,q)是正好描述label和prediction之间差别的距离，因此用作loss函数。"
   ]
  },
  {
   "cell_type": "markdown",
   "metadata": {},
   "source": [
    "* Python cross_entropy代码："
   ]
  },
  {
   "cell_type": "code",
   "execution_count": 26,
   "metadata": {},
   "outputs": [],
   "source": [
    "def cross_entropy(y,t):\n",
    "    y, t = np.array(y), np.array(t)\n",
    "    delta = 1e-7\n",
    "    return -np.sum(y*np.log10(t+delta))"
   ]
  },
  {
   "cell_type": "code",
   "execution_count": 27,
   "metadata": {},
   "outputs": [
    {
     "data": {
      "text/plain": [
       "-18.819690407950162"
      ]
     },
     "execution_count": 27,
     "metadata": {},
     "output_type": "execute_result"
    }
   ],
   "source": [
    "y = [1,2,3,4,5,6,7]\n",
    "t = [1.1,2.1,3.1,4.1,5.1,6.1,7.1]\n",
    "cross_entropy(y,t)"
   ]
  },
  {
   "cell_type": "markdown",
   "metadata": {},
   "source": [
    "实际上这只是单个数据计算出来的cross-entropy，对于多组数据则需要mini-batch.或者说这只是分类问题中的多分类结果"
   ]
  },
  {
   "cell_type": "markdown",
   "metadata": {},
   "source": [
    "$$ E = -\\frac{1}{N}\\sum_{n}\\sum_{k}t_{nk}*\\log{y_{nk}} $$"
   ]
  },
  {
   "cell_type": "markdown",
   "metadata": {},
   "source": [
    "* mini-batch"
   ]
  },
  {
   "cell_type": "markdown",
   "metadata": {},
   "source": [
    "神经网络的学习也是从训练数据中选出一批数据（称为mini-batch,小批量），然后对每个mini-batch进行学习。采用mini-batch的原因就是数据体量N可能是巨大的。"
   ]
  },
  {
   "cell_type": "code",
   "execution_count": 53,
   "metadata": {},
   "outputs": [],
   "source": [
    "import sys, os\n",
    "sys.path.append(os.pardir)\n",
    "import numpy as np\n",
    "from dataset.mnist import load_mnist\n",
    "import pandas as pd"
   ]
  },
  {
   "cell_type": "code",
   "execution_count": 58,
   "metadata": {},
   "outputs": [
    {
     "name": "stdout",
     "output_type": "stream",
     "text": [
      "Downloading train-images-idx3-ubyte.gz ... \n",
      "Done\n",
      "Downloading train-labels-idx1-ubyte.gz ... \n",
      "Done\n",
      "Downloading t10k-images-idx3-ubyte.gz ... \n",
      "Done\n",
      "Downloading t10k-labels-idx1-ubyte.gz ... \n",
      "Done\n",
      "Converting train-images-idx3-ubyte.gz to NumPy Array ...\n",
      "Done\n",
      "Converting train-labels-idx1-ubyte.gz to NumPy Array ...\n",
      "Done\n",
      "Converting t10k-images-idx3-ubyte.gz to NumPy Array ...\n",
      "Done\n",
      "Converting t10k-labels-idx1-ubyte.gz to NumPy Array ...\n",
      "Done\n",
      "Creating pickle file ...\n",
      "Done!\n"
     ]
    }
   ],
   "source": [
    "(x_train, t_train),(x_test, t_test) = load_mnist(normalize=True, one_hot_label=True)"
   ]
  },
  {
   "cell_type": "markdown",
   "metadata": {},
   "source": [
    "* mini-batch的交叉熵实现"
   ]
  },
  {
   "cell_type": "code",
   "execution_count": 11,
   "metadata": {},
   "outputs": [],
   "source": [
    "def cross_entropy_error(y,t):\n",
    "    if y.ndim == 1:\n",
    "        t = t.reshape(1, t.size)\n",
    "        y = y.reshape(1, y.size)\n",
    "    \n",
    "    batch_size = y.shape[0]\n",
    "    print(y)\n",
    "    return -np.sum(t * np.log(y +1e-7)) / batch_size"
   ]
  },
  {
   "cell_type": "markdown",
   "metadata": {},
   "source": [
    "y_ture为非one-hot标签"
   ]
  },
  {
   "cell_type": "code",
   "execution_count": 4,
   "metadata": {},
   "outputs": [],
   "source": [
    "def cross_entropy_error2(y,t):\n",
    "    if y.ndim == 1:\n",
    "        t = t.reshape(1, t.size)\n",
    "        print(t)\n",
    "        y = y.reshape(1, y.size)\n",
    "    batch_size = y.shape[0]\n",
    "    print(batch_size)\n",
    "    return -np.sum(np.log(y[np.arange(batch_size), t] + 1e-7)) / batch_size"
   ]
  },
  {
   "cell_type": "code",
   "execution_count": 6,
   "metadata": {},
   "outputs": [],
   "source": [
    "t = np.array([[0,0,1],[0,1,0],[1,0,0]])"
   ]
  },
  {
   "cell_type": "code",
   "execution_count": 7,
   "metadata": {},
   "outputs": [],
   "source": [
    "y = np.array([[0.2,0.1,0.7],[0.,0.8,0.2],[0.9,0.0,0.1]])"
   ]
  },
  {
   "cell_type": "code",
   "execution_count": 12,
   "metadata": {
    "scrolled": true
   },
   "outputs": [
    {
     "name": "stdout",
     "output_type": "stream",
     "text": [
      "[[0.2 0.1 0.7]\n",
      " [0.  0.8 0.2]\n",
      " [0.9 0.  0.1]]\n"
     ]
    },
    {
     "data": {
      "text/plain": [
       "0.2283928773141796"
      ]
     },
     "execution_count": 12,
     "metadata": {},
     "output_type": "execute_result"
    }
   ],
   "source": [
    "cross_entropy_error(y, t)"
   ]
  },
  {
   "cell_type": "code",
   "execution_count": 13,
   "metadata": {},
   "outputs": [],
   "source": [
    "import numpy as np"
   ]
  },
  {
   "cell_type": "code",
   "execution_count": 15,
   "metadata": {},
   "outputs": [
    {
     "name": "stdout",
     "output_type": "stream",
     "text": [
      "[[1.9 4.9 7.1]]\n"
     ]
    },
    {
     "data": {
      "text/plain": [
       "-22.950547592154102"
      ]
     },
     "execution_count": 15,
     "metadata": {},
     "output_type": "execute_result"
    }
   ],
   "source": [
    "t1 = np.array([2,5,7])\n",
    "y1 = np.array([1.9,4.9,7.1])\n",
    "cross_entropy_error(y1, t1)"
   ]
  },
  {
   "cell_type": "markdown",
   "metadata": {},
   "source": [
    "## 2 optimizer的分析"
   ]
  },
  {
   "cell_type": "markdown",
   "metadata": {},
   "source": [
    "```导数```"
   ]
  },
  {
   "cell_type": "markdown",
   "metadata": {},
   "source": [
    "$$ \\frac{df(x)}{dx} = \\lim_{1\\to\\infty}\\qquad\\frac{f(x+h)-f(x)}{h} $$"
   ]
  },
  {
   "cell_type": "markdown",
   "metadata": {},
   "source": [
    "前向差分改良成中心差分"
   ]
  },
  {
   "cell_type": "markdown",
   "metadata": {},
   "source": [
    "$$ \\frac{df(x)}{dx} = \\lim_{1\\to\\infty}\\qquad\\frac{f(x+h)-f(x-h)}{h} $$"
   ]
  },
  {
   "cell_type": "code",
   "execution_count": 125,
   "metadata": {},
   "outputs": [],
   "source": [
    "def numerical_diff(f, x):\n",
    "    h = 1e-4\n",
    "    return (f(x+h) -f(x-h)) / (2*h)"
   ]
  },
  {
   "cell_type": "code",
   "execution_count": 127,
   "metadata": {},
   "outputs": [],
   "source": [
    "x = np.arange(10)\n",
    "def f(x):\n",
    "    f = 3*x**3+5*x**2+4*x\n",
    "    return f\n"
   ]
  },
  {
   "cell_type": "code",
   "execution_count": 132,
   "metadata": {},
   "outputs": [],
   "source": [
    "fx = numerical_diff(f,x)"
   ]
  },
  {
   "cell_type": "code",
   "execution_count": 133,
   "metadata": {},
   "outputs": [],
   "source": [
    "%matplotlib inline"
   ]
  },
  {
   "cell_type": "code",
   "execution_count": 134,
   "metadata": {},
   "outputs": [
    {
     "data": {
      "text/plain": [
       "<matplotlib.collections.PathCollection at 0x283c17fa860>"
      ]
     },
     "execution_count": 134,
     "metadata": {},
     "output_type": "execute_result"
    },
    {
     "data": {
      "image/png": "[encoded data removed]",
      "text/plain": [
       "<Figure size 432x288 with 1 Axes>"
      ]
     },
     "metadata": {
      "needs_background": "light"
     },
     "output_type": "display_data"
    }
   ],
   "source": [
    "import matplotlib.pyplot as plt\n",
    "plt.scatter(x, fx)"
   ]
  },
  {
   "cell_type": "markdown",
   "metadata": {},
   "source": [
    "* 梯度-gradient"
   ]
  },
  {
   "cell_type": "code",
   "execution_count": 135,
   "metadata": {},
   "outputs": [],
   "source": [
    "def numerical_gradient(f,x):\n",
    "    h = 1e-4\n",
    "    grad = np.zeros_like(x)\n",
    "    \n",
    "    for idx in range(x.size):\n",
    "        tmp_val = x[idx]\n",
    "        # f(x+h)\n",
    "        x[idx] = tmp_val + h\n",
    "        fxh1 = f(x)\n",
    "        # f(x-h)\n",
    "        x[idx] = tmp_val - h\n",
    "        fxh2 = f(x)\n",
    "        grad[idx] = (fxh1 - fxh2) / (2*h)\n",
    "        x[idx] = tmp_val\n",
    "    return grad"
   ]
  },
  {
   "cell_type": "markdown",
   "metadata": {},
   "source": [
    "梯度法只给机器学习提供了一种较快得降低loss损失函数的方法，但不一定能找到准确的最小值。有可能是鞍点、极小值等。"
   ]
  },
  {
   "cell_type": "markdown",
   "metadata": {},
   "source": [
    "> 数学表达梯度法:  \n",
    "  $$ x_0 = x_0 - \\eta * \\frac{\\partial f}{\\partial x_0} $$"
   ]
  },
  {
   "cell_type": "markdown",
   "metadata": {},
   "source": [
    "  $$ x_1 = x_1 - \\eta * \\frac{\\partial f}{\\partial x_1} $$"
   ]
  },
  {
   "cell_type": "markdown",
   "metadata": {},
   "source": [
    "$$\\eta$$表示学习率"
   ]
  },
  {
   "cell_type": "markdown",
   "metadata": {},
   "source": [
    "学习率决定了参数移动到最优值的速度快慢。如果学习率过大，很可能会越过最优值；反而如果学习率过小，优化的效率可能过低，长时间算法无法收敛"
   ]
  },
  {
   "cell_type": "markdown",
   "metadata": {},
   "source": [
    "> ？？动态调整学习率的方法：  \n",
    "> > * (1) 学习率每一步都除以集中训练数据量N  （我理解为NAG）\n",
    "> > * (2) Adagrad算法、RMSprop算法、Momentum算法、Adadelta算法"
   ]
  },
  {
   "cell_type": "code",
   "execution_count": 24,
   "metadata": {},
   "outputs": [
    {
     "name": "stdout",
     "output_type": "stream",
     "text": [
      "['算法', '优点', '缺点', '适用情况']\n",
      "['BGD', '目标函数为凸函数时，可以找到全局最优值', '收敛速度慢，需要用到全部数据，内存消耗大', '不适用于大数据集，不能在线更新模型']\n",
      "['SGD', '避免冗余数据的干扰，收敛速度加快，能够在线学习', '更新值的方差较大，收敛过程会产生波动，可能落入极小值（卡在鞍点），选择合适的学习率比较困难（需要不断减小学习率）', '适用于需要在线更新的模型，适用于大规模训练样本情况Momentum', '能够在相关方向加速SGD，抑制振荡，从而加快收敛', '需要人工设定学习率', '适用于有可靠的初始化参数']\n",
      "['Adagrad', '实现学习率的自动更改', '仍依赖于人工设置一个全局学习率，学习率设置过大，对梯度的调节太大。中后期，梯度接近于0，使得训练提前结束', '需要快速收敛，训练复杂网络时；适合处理稀疏梯度1Adadelta', '不需要预设一个默认学习率，训练初中期，加速效果不错，很快，可以避免参数更新时两边单位不统一的问题', '在局部最小值附近震荡，可能不收敛', '需要快速收敛，训练复杂网络时']\n",
      "['Adam', '速度快，对内存需求较小，为不同的参数计算不同的自适应学习率', '在局部最小值附近震荡，可能不收敛', '需要快速收敛，训练复杂网络时；善于处理稀疏梯度和处理非平稳目标的优点，也适用于大多非凸优化', '-', '适用于大数据集和高维空间']\n"
     ]
    }
   ],
   "source": [
    "aa = print('算法 优点 缺点 适用情况'.split( ))\n",
    "bb = print('BGD 目标函数为凸函数时，可以找到全局最优值 收敛速度慢，需要用到全部数据，内存消耗大 不适用于大数据集，不能在线更新模型'.split( ))\n",
    "cc = print('''SGD 避免冗余数据的干扰，收敛速度加快，能够在线学习 更新值的方差较大，收敛过程会产生波动，可能落入极小值（卡在鞍点），选择合适的学习率比较困难（需要不断减小学习率） 适用于需要在线更新的模型，适用于大规模训练样本情况Momentum 能够在相关方向加速SGD，抑制振荡，从而加快收敛 需要人工设定学习率 适用于有可靠的初始化参数'''.split( ))\n",
    "\n",
    "dd = print('''Adagrad 实现学习率的自动更改 仍依赖于人工设置一个全局学习率，学习率设置过大，对梯度的调节太大。中后期，梯度接近于0，使得训练提前结束 需要快速收敛，训练复杂网络时；适合处理稀疏梯度1Adadelta 不需要预设一个默认学习率，训练初中期，加速效果不错，很快，可以避免参数更新时两边单位不统一的问题 在局部最小值附近震荡，可能不收敛 需要快速收敛，训练复杂网络时'''.split( ))\n",
    "\n",
    "ee = print('''Adam 速度快，对内存需求较小，为不同的参数计算不同的自适应学习率 在局部最小值附近震荡，可能不收敛 需要快速收敛，训练复杂网络时；善于处理稀疏梯度和处理非平稳目标的优点，也适用于大多非凸优化 - 适用于大数据集和高维空间'''.split( ))"
   ]
  },
  {
   "cell_type": "markdown",
   "metadata": {},
   "source": [
    "> * SGD:\n",
    "$$ \\theta_{i\\_{new}} = \\theta_{i} - \\eta * \\nabla_{\\theta{i}}J(\\theta)$$"
   ]
  },
  {
   "cell_type": "markdown",
   "metadata": {},
   "source": [
    "$$\\nabla_{\\theta{i}}J(\\theta) = \\frac {\\partial J(\\theta)} {\\partial\\theta_{i}}$$"
   ]
  },
  {
   "cell_type": "code",
   "execution_count": 66,
   "metadata": {},
   "outputs": [
    {
     "name": "stdout",
     "output_type": "stream",
     "text": [
      "迭代次数：3611 theta： [1.01341928 1.98981766] error：0.000100\n"
     ]
    }
   ],
   "source": [
    "# 随机梯度下降SGD\n",
    "# 以 y=x1+2*x2为例\n",
    "\n",
    "import numpy as np\n",
    "\n",
    "\n",
    "# 多元数据\n",
    "def sgd():\n",
    "    # 训练集，每个样本有三个分量\n",
    "    x = np.array([(1, 1), (1, 2), (2, 2), (3, 1), (1, 3), (2, 4), (2, 3), (3,3)])\n",
    "    y = np.array([3, 5, 6, 5, 7, 10, 8, 9])\n",
    "\n",
    "    # 初始化\n",
    "    m, dim = x.shape\n",
    "    theta = np.zeros(dim)  # 参数\n",
    "    alpha = 0.01  # 学习率\n",
    "    threshold = 0.0001  # 停止迭代的错误阈值\n",
    "    iterations = 5000\n",
    "    # 迭代次数\n",
    "    error = 0  # 初始错误为0\n",
    "\n",
    "    # 迭代开始\n",
    "    # 8个样本数据重复在使用\n",
    "    for i in range(iterations):\n",
    "        j = i % m\n",
    "        error = 1 / (2 * m) * np.dot((np.dot(x, theta) - y).T,(np.dot(x, theta) - y))\n",
    "        # 迭代停止\n",
    "        if abs(error) <= threshold:\n",
    "            break\n",
    "\n",
    "        theta -= alpha * (1 / m * x[j] * (np.dot(x[j], theta) - y[j]))\n",
    "\n",
    "    print('迭代次数：%d' % (i + 1), 'theta：', theta, 'error：%f' % error)\n",
    "\n",
    "\n",
    "if __name__ == '__main__':\n",
    "    sgd()"
   ]
  },
  {
   "cell_type": "markdown",
   "metadata": {},
   "source": [
    "> * Momentum:"
   ]
  },
  {
   "cell_type": "markdown",
   "metadata": {},
   "source": [
    "$$v_0 = 0$$\n",
    "$$ v_{n} = \\beta* v_{n-1} + (1-\\beta)dw $$ $$ w = w - \\alpha v $$"
   ]
  },
  {
   "cell_type": "markdown",
   "metadata": {},
   "source": [
    "$$ \\frac {dJ_{W}} {dW} = ~= dW $$ "
   ]
  },
  {
   "cell_type": "code",
   "execution_count": 297,
   "metadata": {},
   "outputs": [
    {
     "data": {
      "text/plain": [
       "array([ 6,  7, 12, 16,  8, 14, 13, 18])"
      ]
     },
     "execution_count": 297,
     "metadata": {},
     "output_type": "execute_result"
    }
   ],
   "source": [
    "x = np.array([(1, 1), (1, 2), (2, 2), (3, 1), (1, 3), (2, 4), (2, 3), (3,3)])\n",
    "W = np.array([5,1])\n",
    "np.dot(x,W)"
   ]
  },
  {
   "cell_type": "code",
   "execution_count": 86,
   "metadata": {},
   "outputs": [
    {
     "name": "stdout",
     "output_type": "stream",
     "text": [
      "迭代次数：3401 theta： [1.01340387 1.98981253] error：0.000100\n"
     ]
    }
   ],
   "source": [
    "# 动量方法Momentum\n",
    "# 以 y=x1+2*x2为例\n",
    "\n",
    "import numpy as np\n",
    "    \n",
    "# 多元数据\n",
    "def Momentum():\n",
    "    # 训练集，每个样本有三个分量\n",
    "    x = np.array([(1, 1), (1, 2), (2, 2), (3, 1), (1, 3), (2, 4), (2, 3), (3,3)])\n",
    "    y = np.array([3, 5, 6, 5, 7, 10, 8, 9])\n",
    "\n",
    "    # 初始化\n",
    "    m, dim = x.shape\n",
    "    v_0 = np.zeros(dim)  # W权证初始化参数\n",
    "    beta = 0.99\n",
    "    alpha = 0.01  # 学习率\n",
    "    threshold = 0.0001  # 停止迭代的错误阈值\n",
    "    iterations = 5000  # 迭代次数\n",
    "    error = 0  # 初始错误为0\n",
    "    v = v_0 + (1-beta) * np.zeros(dim)\n",
    "    theta = np.zeros(dim) - alpha*v\n",
    "    # 迭代开始\n",
    "    for i in range(1, iterations):\n",
    "        j = i % m\n",
    "        error = 1 / (2 * m) * np.dot((np.dot(x, theta) - y).T,(np.dot(x, theta) - y))\n",
    "        # 迭代停止\n",
    "        if abs(error) <= threshold:\n",
    "            break\n",
    "\n",
    "        v = beta*v +(1-beta)*(1 /m * x[j] * (np.dot(x[j], theta) - y[j])) \n",
    "        theta -= alpha * v\n",
    "\n",
    "    print('迭代次数：%d' % (i + 1), 'theta：', theta, 'error：%f' % error)\n",
    "\n",
    "\n",
    "if __name__ == '__main__':\n",
    "    Momentum()"
   ]
  },
  {
   "cell_type": "code",
   "execution_count": 164,
   "metadata": {},
   "outputs": [
    {
     "data": {
      "text/plain": [
       "<matplotlib.collections.PathCollection at 0x283c3c5e588>"
      ]
     },
     "execution_count": 164,
     "metadata": {},
     "output_type": "execute_result"
    },
    {
     "data": {
      "image/png": "[encoded data removed]",
      "text/plain": [
       "<Figure size 432x288 with 1 Axes>"
      ]
     },
     "metadata": {
      "needs_background": "light"
     },
     "output_type": "display_data"
    }
   ],
   "source": [
    "plt.scatter(X[12],y)"
   ]
  },
  {
   "cell_type": "code",
   "execution_count": 168,
   "metadata": {},
   "outputs": [],
   "source": [
    "x= X[12]"
   ]
  },
  {
   "cell_type": "code",
   "execution_count": 226,
   "metadata": {},
   "outputs": [],
   "source": [
    "seen = set()\n",
    "sle = list()\n",
    "for i, m in zip(x.T,y.T):\n",
    "    if i in seen: continue\n",
    "    sle.append((i,m))\n",
    "    seen.add(i)"
   ]
  },
  {
   "cell_type": "code",
   "execution_count": 224,
   "metadata": {},
   "outputs": [],
   "source": [
    "y = load_boston()['target']"
   ]
  },
  {
   "cell_type": "code",
   "execution_count": 229,
   "metadata": {},
   "outputs": [
    {
     "data": {
      "text/plain": [
       "455"
      ]
     },
     "execution_count": 229,
     "metadata": {},
     "output_type": "execute_result"
    }
   ],
   "source": [
    "len(sle)"
   ]
  },
  {
   "cell_type": "code",
   "execution_count": 232,
   "metadata": {},
   "outputs": [
    {
     "data": {
      "text/plain": [
       "<matplotlib.collections.PathCollection at 0x283c439e710>"
      ]
     },
     "execution_count": 232,
     "metadata": {},
     "output_type": "execute_result"
    },
    {
     "data": {
      "image/png": "[encoded data removed]",
      "text/plain": [
       "<Figure size 432x288 with 1 Axes>"
      ]
     },
     "metadata": {
      "needs_background": "light"
     },
     "output_type": "display_data"
    }
   ],
   "source": [
    "plt.scatter([i for i,_ in sle],[m for _, m in sle])"
   ]
  },
  {
   "cell_type": "code",
   "execution_count": 103,
   "metadata": {},
   "outputs": [
    {
     "name": "stdout",
     "output_type": "stream",
     "text": [
      "迭代次数：303 theta： [1.01358856 1.99023727] error：0.000100\n"
     ]
    }
   ],
   "source": [
    "# 带冲量的随机梯度下降SGD\n",
    "# 以 y=x1+2*x2为例\n",
    "\n",
    "import numpy as np\n",
    "\n",
    "# 多元数据\n",
    "def sgd():\n",
    "    # 训练集，每个样本有三个分量\n",
    "    x = np.array([(1, 1), (1, 2), (2, 2), (3, 1), (1, 3), (2, 4), (2, 3), (3,\n",
    "                                                                           3)])\n",
    "    y = np.array([3, 5, 6, 5, 7, 10, 8, 9])\n",
    "\n",
    "    # 初始化\n",
    "    m, dim = x.shape\n",
    "    theta = np.zeros(dim)  # 参数\n",
    "    alpha = 0.1  # 学习率\n",
    "    momentum = 0.1  # 冲量\n",
    "    threshold = 0.0001  # 停止迭代的错误阈值\n",
    "    iterations = 1500  # 迭代次数\n",
    "    error = 0  # 初始错误为0\n",
    "    gradient = 0  # 初始梯度为0\n",
    "\n",
    "    # 迭代开始\n",
    "    for i in range(iterations):\n",
    "        j = i % m\n",
    "        error = 1 / (2 * m) * np.dot((np.dot(x, theta) - y).T,\n",
    "                                     (np.dot(x, theta) - y))\n",
    "        # 迭代停止\n",
    "        if abs(error) <= threshold:\n",
    "            break\n",
    "\n",
    "        gradient = momentum * gradient + alpha * (1 / m * x[j] * (np.dot(x[j], theta) - y[j]))\n",
    "        theta -= gradient\n",
    "\n",
    "    print('迭代次数：%d' % (i + 1), 'theta：', theta, 'error：%f' % error)\n",
    "\n",
    "\n",
    "if __name__ == '__main__':\n",
    "    sgd()\n"
   ]
  },
  {
   "cell_type": "markdown",
   "metadata": {},
   "source": [
    "加权平均的概念：\n",
    "$$ v_0 = 0  $$\n",
    "$$v_{k} = \\beta v_{k-1}+(1-\\beta)*\\theta_{k}, k = 1,2,3...$$"
   ]
  },
  {
   "cell_type": "markdown",
   "metadata": {},
   "source": [
    "> * Adagrad:"
   ]
  },
  {
   "cell_type": "markdown",
   "metadata": {},
   "source": [
    "$$ \\theta_{i, t+1} = \\theta_{i,t} - \\frac{\\eta} {\\sqrt{G_{i,t}+\\epsilon}} \\nabla_{\\theta{i,t}}J(\\theta)$$"
   ]
  },
  {
   "cell_type": "markdown",
   "metadata": {},
   "source": [
    "> ```G_{i,t}```是什么？\n",
    "> 是前t 次梯度的累积，做简化可以写成："
   ]
  },
  {
   "cell_type": "markdown",
   "metadata": {},
   "source": [
    "$$ \\theta_{t+1} = \\theta_{t} - \\frac{\\eta}{\\sqrt{G_{t}+\\epsilon}}\\nabla_{\\theta{i}}J(\\theta)$$"
   ]
  },
  {
   "cell_type": "markdown",
   "metadata": {},
   "source": [
    ">>容易看出，随着算法的不断迭代，G_t 会变得越来越大，整体的学习率会越变越小。所以Adagrad可以称前期是激励收敛，后期是惩罚收敛。前期速度快，后期速度慢。"
   ]
  },
  {
   "cell_type": "markdown",
   "metadata": {},
   "source": [
    "> > 也有人将G_t换乘前t次的平方和进行计算。"
   ]
  },
  {
   "cell_type": "markdown",
   "metadata": {},
   "source": [
    "$$ \\theta_{t+1} = \\theta_{t} - \\frac{\\eta}{\\sqrt{\\sum_{r=1}^{t}(g_t)^2+\\epsilon}}\\nabla_{\\theta{i}}J(\\theta)$$"
   ]
  },
  {
   "cell_type": "markdown",
   "metadata": {},
   "source": [
    ">>特点：  \n",
    "优点： 前期G较大（regulizer较大），放大梯度，产生激励；后期激励小（regulizer较小），产生惩罚。  \n",
    "缺点： 仍以来人工设置一个全局的学习率\\eta，如果设置过大，regularizer过于敏感，对梯度的调节太大（中后期），分母上梯度平方的累积将会越来越大，致使gradient->0，使得训练提前结束。"
   ]
  },
  {
   "cell_type": "markdown",
   "metadata": {},
   "source": [
    "> Python实现:  "
   ]
  },
  {
   "cell_type": "markdown",
   "metadata": {},
   "source": [
    "> 视图：y = x1 + 2* x2"
   ]
  },
  {
   "cell_type": "code",
   "execution_count": 40,
   "metadata": {},
   "outputs": [
    {
     "data": {
      "image/png": "[encoded data removed]",
      "text/plain": [
       "<Figure size 432x288 with 1 Axes>"
      ]
     },
     "metadata": {
      "needs_background": "light"
     },
     "output_type": "display_data"
    }
   ],
   "source": [
    "from matplotlib import pyplot as plt\n",
    "import numpy as np\n",
    "from mpl_toolkits.mplot3d import Axes3D\n",
    "X = np.array([1, 1, 2, 3, 1, 2, 2, 3])\n",
    "Y = np.array([1, 2, 2, 1, 3, 4, 3, 3])\n",
    "Z2 = np.array([3, 5, 6, 5, 7, 10, 8, 9])\n",
    "X, Y = np.meshgrid(X, Y)\n",
    "\n",
    "Z1 = X + 2* Y\n",
    "ax=plt.subplot(111,projection='3d') \n",
    "ax.scatter(X, Y, Z1, c=\"r\")\n",
    "plt.show()"
   ]
  },
  {
   "cell_type": "code",
   "execution_count": 38,
   "metadata": {},
   "outputs": [
    {
     "data": {
      "image/png": "[encoded data removed]",
      "text/plain": [
       "<Figure size 432x288 with 1 Axes>"
      ]
     },
     "metadata": {
      "needs_background": "light"
     },
     "output_type": "display_data"
    }
   ],
   "source": [
    "fig = plt.figure()\n",
    "ax = Axes3D(fig)\n",
    "ax.plot_surface(X, Y, Z, rstride=1, cstride=1, cmap='rainbow')\n",
    "plt.show()"
   ]
  },
  {
   "cell_type": "code",
   "execution_count": 121,
   "metadata": {},
   "outputs": [
    {
     "name": "stdout",
     "output_type": "stream",
     "text": [
      "迭代次数：1500 theta： [11.37500565 11.19370369] error：931.249673\n"
     ]
    },
    {
     "data": {
      "image/png": "[encoded data removed]",
      "text/plain": [
       "<Figure size 432x288 with 1 Axes>"
      ]
     },
     "metadata": {
      "needs_background": "light"
     },
     "output_type": "display_data"
    }
   ],
   "source": [
    "# 前t次的平方和进行计算 \n",
    "# 以 y=x1+2*x2为例\n",
    "\n",
    "import numpy as np\n",
    "import random\n",
    "\n",
    "# 多元数据\n",
    "def Adagrad():\n",
    "    # 训练集，每个样本有三个分量\n",
    "    #x = np.array([(1, 1), (1, 2), (2, 2), (3, 1), (1, 3), (2, 4), (2, 3), (3,3)])\n",
    "    x = np.array([[1,1],[1,2],[2,2],[3,1],[1,3],[2,4],[2,3],[3,3]])\n",
    "    y = np.array([3, 5, 6, 5, 7, 10, 8, 9])\n",
    "    alpha = 0.01  # 学习率\n",
    "    threshold = 0.0001  # 停止迭代的错误阈值\n",
    "    iterations = 1500  # 迭代次数\n",
    "    error = 0  # 初始错误为0\n",
    "    m, dim = x.shape\n",
    "    gradient = np.random.randn(dim)  # 初始梯度为0\n",
    "    theta = np.zeros(dim)\n",
    "    epislon= 1e-7\n",
    "    G_t = 0\n",
    "    X,Y = list(),list()\n",
    "    # 迭代开始\n",
    "    for i in range(iterations):\n",
    "        j = i % m\n",
    "        error = 1 / (2 * m) * np.dot((y - np.dot(x, theta)).T,(y - np.dot(x, theta)))\n",
    "        Y.append(error)\n",
    "        # 迭代停止\n",
    "        if abs(error) <= threshold:\n",
    "            break\n",
    "\n",
    "        gradient = 1 / m * x[j] * (np.dot(x[j], theta) - y[j])\n",
    "        theta -= alpha/np.sqrt(G_t+1e-7)*gradient\n",
    "        X.append(theta)\n",
    "        #gradient = momentum * gradient + alpha * (1 / m * x[j] * (np.dot(x[j], theta) - y[j]))\n",
    "        #theta -= gradient\n",
    "        G_t += np.dot(gradient.T, gradient)\n",
    "\n",
    "        #print(np.sum(G_t))\n",
    "    print('迭代次数：%d' % (i + 1), 'theta：', theta, 'error：%f' % error)\n",
    "\n",
    "plt.scatter(X,Y)\n",
    "if __name__ == '__main__':\n",
    "    Adagrad()"
   ]
  },
  {
   "cell_type": "markdown",
   "metadata": {},
   "source": [
    "> * RMSprop:可以看做是Adadelta的一个特例  \n",
    "当p = 0.5时，"
   ]
  },
  {
   "cell_type": "code",
   "execution_count": null,
   "metadata": {},
   "outputs": [],
   "source": []
  },
  {
   "cell_type": "markdown",
   "metadata": {},
   "source": [
    "$$ E[g^2]_t = \\rho * E[g^2]_{t-1} + (1-\\rho)*(g_t)^2$$"
   ]
  },
  {
   "cell_type": "markdown",
   "metadata": {},
   "source": [
    ">上式再求根就变成RMS"
   ]
  },
  {
   "cell_type": "markdown",
   "metadata": {},
   "source": [
    "$$ RMS[g]_t = \\sqrt{E[g^2]_t + \\epsilon} $$"
   ]
  },
  {
   "cell_type": "code",
   "execution_count": null,
   "metadata": {},
   "outputs": [],
   "source": []
  },
  {
   "cell_type": "markdown",
   "metadata": {},
   "source": [
    "> 特点：  \n",
    "优点：RMSprop的效果介于AdagradHRAdadelta之间；适合处理非平稳目标，对于RNN的效果很好  \n",
    "缺点：仍然依赖于全局的学习率"
   ]
  },
  {
   "cell_type": "markdown",
   "metadata": {},
   "source": [
    "### 3 激活函数整理"
   ]
  },
  {
   "cell_type": "markdown",
   "metadata": {},
   "source": [
    "* ReLu"
   ]
  },
  {
   "cell_type": "code",
   "execution_count": 6,
   "metadata": {},
   "outputs": [
    {
     "data": {
      "text/plain": [
       "5"
      ]
     },
     "execution_count": 6,
     "metadata": {},
     "output_type": "execute_result"
    }
   ],
   "source": [
    "def relu(x):\n",
    "    if x > 0: \n",
    "        return x\n",
    "    else:\n",
    "        return 0\n",
    "relu(5)"
   ]
  },
  {
   "cell_type": "markdown",
   "metadata": {},
   "source": [
    "* sigmoid"
   ]
  },
  {
   "cell_type": "code",
   "execution_count": 26,
   "metadata": {},
   "outputs": [],
   "source": [
    "import numpy as np\n",
    "def Sigmoid(x):\n",
    "    return 1 / (1 + np.exp(-x))"
   ]
  },
  {
   "cell_type": "code",
   "execution_count": 27,
   "metadata": {},
   "outputs": [],
   "source": [
    "s = np.linspace(-5,5,100)"
   ]
  },
  {
   "cell_type": "code",
   "execution_count": 28,
   "metadata": {},
   "outputs": [
    {
     "data": {
      "text/plain": [
       "<matplotlib.collections.PathCollection at 0x1cf60dc3860>"
      ]
     },
     "execution_count": 28,
     "metadata": {},
     "output_type": "execute_result"
    },
    {
     "data": {
      "image/png": "[encoded data removed]",
      "text/plain": [
       "<Figure size 432x288 with 1 Axes>"
      ]
     },
     "metadata": {
      "needs_background": "light"
     },
     "output_type": "display_data"
    }
   ],
   "source": [
    "%matplotlib inline\n",
    "import matplotlib.pyplot as plt\n",
    "plt.title(\"Sigmoid激活函数\")\n",
    "plt.scatter(s, Sigmoid(s))"
   ]
  },
  {
   "cell_type": "markdown",
   "metadata": {},
   "source": [
    "* tanh"
   ]
  },
  {
   "cell_type": "markdown",
   "metadata": {},
   "source": [
    "$$tanh(x) =  \\frac{2}{1+\\exp^{-2*x}}-1$$"
   ]
  },
  {
   "cell_type": "code",
   "execution_count": 30,
   "metadata": {},
   "outputs": [],
   "source": [
    "def tanh(x_):\n",
    "    return 2/(np.exp(-2*x_)+1)-1"
   ]
  },
  {
   "cell_type": "code",
   "execution_count": 31,
   "metadata": {},
   "outputs": [
    {
     "data": {
      "image/png": "[encoded data removed]",
      "text/plain": [
       "<Figure size 432x288 with 1 Axes>"
      ]
     },
     "metadata": {
      "needs_background": "light"
     },
     "output_type": "display_data"
    }
   ],
   "source": [
    "x_ = np.linspace(-5,5)\n",
    "y_ = tanh(x_)\n",
    "plt.plot(x_, y_, 'b-')\n",
    "plt.title(\"tanh Fuction\")\n",
    "plt.show()"
   ]
  },
  {
   "cell_type": "code",
   "execution_count": null,
   "metadata": {},
   "outputs": [],
   "source": []
  }
 ],
 "metadata": {
  "kernelspec": {
   "display_name": "Python 3",
   "language": "python",
   "name": "python3"
  },
  "language_info": {
   "codemirror_mode": {
    "name": "ipython",
    "version": 3
   },
   "file_extension": ".py",
   "mimetype": "text/x-python",
   "name": "python",
   "nbconvert_exporter": "python",
   "pygments_lexer": "ipython3",
   "version": "3.7.3"
  }
 },
 "nbformat": 4,
 "nbformat_minor": 2
}
