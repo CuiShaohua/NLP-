{
 "cells": [
  {
   "cell_type": "markdown",
   "metadata": {},
   "source": [
    "# NLP重点知识点回顾"
   ]
  },
  {
   "cell_type": "markdown",
   "metadata": {},
   "source": [
    "* 1 one-hot编码 "
   ]
  },
  {
   "cell_type": "code",
   "execution_count": 4,
   "metadata": {},
   "outputs": [
    {
     "name": "stdout",
     "output_type": "stream",
     "text": [
      "['cold' 'cold' 'warm' 'cold' 'hot' 'hot' 'warm' 'cold' 'warm' 'hot']\n"
     ]
    }
   ],
   "source": [
    "#// An highlighted block\n",
    "from numpy import array\n",
    "from numpy import argmax\n",
    "from sklearn.preprocessing import LabelEncoder\n",
    "from sklearn.preprocessing import OneHotEncoder\n",
    "# define example\n",
    "data = ['cold', 'cold', 'warm', 'cold', 'hot', 'hot', 'warm', 'cold', 'warm', 'hot']\n",
    "values = array(data)\n",
    "print(values)"
   ]
  },
  {
   "cell_type": "code",
   "execution_count": 5,
   "metadata": {},
   "outputs": [
    {
     "name": "stdout",
     "output_type": "stream",
     "text": [
      "[0 0 2 0 1 1 2 0 2 1]\n"
     ]
    }
   ],
   "source": [
    "# integer encode\n",
    "label_encoder = LabelEncoder()\n",
    "integer_encoded = label_encoder.fit_transform(values)\n",
    "print(integer_encoded)\n"
   ]
  },
  {
   "cell_type": "code",
   "execution_count": 7,
   "metadata": {},
   "outputs": [
    {
     "name": "stdout",
     "output_type": "stream",
     "text": [
      "[[1. 0. 0.]\n",
      " [1. 0. 0.]\n",
      " [0. 0. 1.]\n",
      " [1. 0. 0.]\n",
      " [0. 1. 0.]\n",
      " [0. 1. 0.]\n",
      " [0. 0. 1.]\n",
      " [1. 0. 0.]\n",
      " [0. 0. 1.]\n",
      " [0. 1. 0.]]\n"
     ]
    },
    {
     "name": "stderr",
     "output_type": "stream",
     "text": [
      "D:\\Anaconda3\\lib\\site-packages\\sklearn\\preprocessing\\_encoders.py:415: FutureWarning: The handling of integer data will change in version 0.22. Currently, the categories are determined based on the range [0, max(values)], while in the future they will be determined based on the unique values.\n",
      "If you want the future behaviour and silence this warning, you can specify \"categories='auto'\".\n",
      "In case you used a LabelEncoder before this OneHotEncoder to convert the categories to integers, then you can now use the OneHotEncoder directly.\n",
      "  warnings.warn(msg, FutureWarning)\n"
     ]
    }
   ],
   "source": [
    "# binary encode\n",
    "onehot_encoder = OneHotEncoder(sparse=False)\n",
    "integer_encoded = integer_encoded.reshape(len(integer_encoded), 1)\n",
    "onehot_encoded = onehot_encoder.fit_transform(integer_encoded)\n",
    "print(onehot_encoded)\n"
   ]
  },
  {
   "cell_type": "code",
   "execution_count": 8,
   "metadata": {},
   "outputs": [
    {
     "name": "stdout",
     "output_type": "stream",
     "text": [
      "['cold']\n"
     ]
    }
   ],
   "source": [
    "# invert first example\n",
    "inverted = label_encoder.inverse_transform([argmax(onehot_encoded[0, :])])\n",
    "print(inverted)"
   ]
  },
  {
   "cell_type": "markdown",
   "metadata": {},
   "source": [
    "* 为什么要进行one-hot编码\n",
    "one-hot编码类似将中文的item（gram或者简单理解为词语）进行统一编码，在某种程度上可以看做是词语的有效索引。但抛开one-hot编码存在稀疏矩阵，当词典长度存在较大，除了引起维度灾难之外，更应该关注的是，其无法表示词语与词语之间的相似程度。比如在一条句子中，梦想和理想可能在句子中的距离挨的很远，在另一份句子中离得却很近，但这种变化关系，ont-hot是无法体现出的。"
   ]
  },
  {
   "cell_type": "markdown",
   "metadata": {},
   "source": [
    "* 2 word2vec"
   ]
  },
  {
   "cell_type": "markdown",
   "metadata": {},
   "source": [
    "> word2vec又称为词向量，英文名称为word embedding，也可称为词嵌入。不使用one-hot编码的原因是one-hot无法准确表达不同词之间的相似度，像余弦相似度，Tf-idf可能会用这个。"
   ]
  },
  {
   "cell_type": "markdown",
   "metadata": {},
   "source": [
    "> word2vec将每个词表示为一个定长的向量，并使得这些向量能较好地表现不同词之间的相似和类比关系。"
   ]
  },
  {
   "cell_type": "markdown",
   "metadata": {},
   "source": [
    "> * Skip-gram模型："
   ]
  },
  {
   "cell_type": "markdown",
   "metadata": {},
   "source": [
    "$$正常句子：the~man ~loves ~his ~son $$\n",
    "$$ 中心词为loves：~P('the','man','his','son'|'loves')=P('the'|'loves')*P('man'|'loves')*P('his'|'loves')*P('son'|'loves')$$"
   ]
  },
  {
   "cell_type": "markdown",
   "metadata": {},
   "source": [
    "> 上述成立条件在词与词之间相互独立的条件下成立"
   ]
  },
  {
   "cell_type": "markdown",
   "metadata": {},
   "source": [
    "> 使用softmax函数对上式进行表征=>给定中心词生成背景词的条件概率"
   ]
  },
  {
   "cell_type": "markdown",
   "metadata": {},
   "source": [
    "$$ P(w_o|w_c)= \\frac{\\exp(u_o^T*v_c)}{\\sum_{i \\in \\Upsilon}\\exp{u_i^T}{v_c}} $$"
   ]
  },
  {
   "cell_type": "markdown",
   "metadata": {},
   "source": [
    ">> $w_o$为背景词，索引为o，$w_c$为中心词，索引为c。该词在词典中的索引为i，当它为中心词时词向量为$v_i$，当它为背景词时词向量为$u_i$"
   ]
  },
  {
   "cell_type": "markdown",
   "metadata": {},
   "source": [
    "> Q1：为什么要使用softmax函数？\n",
    "* 1 信息论-从信息论的角度看，Softmax函数可以看作是试图最小化预测与事实之间的交叉熵。\n",
    "> * 2 概率观点-从这个角度来看，我们实际上是在观察对数概率，因此，当我们进行幂运算时，我们最终得到的是原始概率。在这种情况下，Softmax方程找到了最大似然估计(MLE)。"
   ]
  },
  {
   "cell_type": "markdown",
   "metadata": {},
   "source": [
    "> Q2：softmax函数具有哪些特点？\n",
    "* 1 softmax可以最大化向量中的某个较大的值，同时又不失去较小值的可能性，符合概率的思想，并且对于一个向量，softmax结果之和等于1;\n",
    "* 2 softmax交叉熵目标函数与最大化似然估计同宗同脉"
   ]
  },
  {
   "cell_type": "markdown",
   "metadata": {},
   "source": [
    "> * 当给定一个长度为T的文本序列时，设时间步t的词为w(t)。假设给定中心词的情况下背景词的生成相互独立，当背景窗口大小为m时，skip-gram模型的似然函数——即给定任一中心词生成所有背景词的概率是："
   ]
  },
  {
   "cell_type": "markdown",
   "metadata": {},
   "source": [
    "$$\\prod_{t=1}^{T}\\prod_{~-m \\le j \\le m, j \\neq0}P(w^{(t+j)}|w^{t})$$"
   ]
  },
  {
   "cell_type": "markdown",
   "metadata": {},
   "source": [
    "> 神经网络就是为了获得合适的权重，这个权重也可称为词向量权重。而我们训练skip-gram网络，其重要的一点就是将对上式的最大似然估计，等价为对如下损失函数的最小化："
   ]
  },
  {
   "cell_type": "markdown",
   "metadata": {},
   "source": [
    "$$- \\prod_{t=1}^{T}\\prod_{~-m \\le j \\le m, j \\neq0}\\log P(w^{(t+j)}|w^{t})$$"
   ]
  },
  {
   "cell_type": "markdown",
   "metadata": {},
   "source": [
    "> Q3：为什么是最大似然估计?\n",
    "* 1 似然估计是指某个事件发生的概率受到可变参数的影响，当这些参数发生变化时，获得某个事件结果的概率也随之变化。\n",
    "* 2 最大似然估计就是获得某个事件出现某个结果的最大可能性的那个最优参数。具体可以参考下面的表达式：\n",
    "$$ \\prod_{i=1}^{n}f(x_i;\\theta_1,\\theta_2,...\\theta_n) $$"
   ]
  },
  {
   "cell_type": "markdown",
   "metadata": {},
   "source": [
    "> 上式表示某个事件X的N次测量结果相互独立，其概率密度函数f(x_i)在已知样本X1，X2，Xn的情况产生的联合概率密度函数受到```\\theta```的影响，并且称之为似然函数。似然的意思就是可能性"
   ]
  },
  {
   "cell_type": "markdown",
   "metadata": {},
   "source": [
    "> 最大似然估计是指给定样本值X1，X2，Xn，如果有$$\\prod f(x_i;\\hat{\\theta_1},\\hat{\\theta_2},...\\hat{\\theta_n},) \\ge \\prod f(x_i;\\theta_1',\\theta_2',...\\theta_n')$$"
   ]
  },
  {
   "cell_type": "markdown",
   "metadata": {},
   "source": [
    "> 其中$\\hat{\\theta_1}...$为未知参数$\\theta_1$可能取的某一组值，而$\\theta_1'$为其他可以取的一切值。大于号说明左边取值获得的可能性更大，如果存在这样的一组值使上式成立，我们就称左边\\theta取值是最大化样本概率的值"
   ]
  },
  {
   "cell_type": "markdown",
   "metadata": {},
   "source": [
    "> 求样本的最大似然估计的最优参数 $\\theta$一般采用微分方法（除了微分也有其他方法），通过极大似然函数对$\\theta$求偏导，令其等于零可以求出其解析最优解。但机器学习的方法则是通过已知样本进行近似一组数值解，使目标函数尽可能小。"
   ]
  },
  {
   "cell_type": "markdown",
   "metadata": {},
   "source": [
    "> 我们对损失函数$- \\prod_{t=1}^{T}\\prod_{~-m \\le j \\le m, j \\neq0}\\log P(w^{(t+j)}|w^{t})$按照概率函数$ P(w_0|w_c)= \\frac{\\exp(u_o^T*v_c)}{\\sum_{i \\in \\Upsilon}\\exp{u_i^T}{v_c}} $带入，可以获得下面的式子："
   ]
  },
  {
   "cell_type": "markdown",
   "metadata": {},
   "source": [
    "$$ \\prod \\prod (\\log{\\exp(u_o^T*v_c)}-\\log(\\sum \\exp(u_i^T*v_c)))$$"
   ]
  },
  {
   "cell_type": "markdown",
   "metadata": {},
   "source": [
    "> 化简可得，$\\prod\\prod (u_o^Tv_c-\\log(\\sum(\\exp(u_i^Tv_c)))$"
   ]
  },
  {
   "cell_type": "markdown",
   "metadata": {},
   "source": [
    "> 而对$v_c$进行求偏导，可以获得"
   ]
  },
  {
   "cell_type": "markdown",
   "metadata": {},
   "source": [
    "$$ \\frac {\\partial \\log P(w_o|w_c)} {\\partial v_c} = u_o-\\frac {\\sum \\exp(u_j^Tv_c)}{\\sum{\\exp(u_i^T*v_c)}}*u_j\\\\\n",
    "=u_o - \\sum (\\frac {\\exp{u_j^Tv_c}} {\\sum \\exp{u_i^Tv_c}})*u_j \\\\\n",
    "= u_o - \\sum_{j \\in \\Upsilon} P(w_j|w_c)*u_j$$"
   ]
  },
  {
   "cell_type": "markdown",
   "metadata": {},
   "source": [
    ">> 前面的两个连乘计算是训练文本的时候，进行权重更新使用的，第一个连乘代表长度为T的句子，该句子中的每个单词都要作为中心词去跟词典中的$u_j$去做softmax运算；第二个连乘代表中心词窗口为m的m个式子相乘，$u_o$表示窗口中的背景词的词向量，$v_c$表示窗口中的中心词的词向量，$u_i$和$u_j$是指词典$\\Upsilon$中每个单词的背景词向量。"
   ]
  },
  {
   "cell_type": "markdown",
   "metadata": {},
   "source": [
    "> Q4：$u_o和u_j$的表示形式是什么？  \n",
    "词向量"
   ]
  },
  {
   "cell_type": "markdown",
   "metadata": {},
   "source": [
    "> Q5：为什么求导会又出现一个$u_j$？\n",
    "$$ \\begin{eqnarray*}\\\\\n",
    "&&\\frac{\\partial \\ln \\sum_{i \\in \\Upsilon} \\exp(u_i*v_c)}{\\partial v_c} \\\\\n",
    "&=&\\frac{\\frac{\\partial[\\sum_{i \\in \\Upsilon} \\exp(u_i^T*v_c)]}{\\partial v_c}}{\\sum_{i \\in \\Upsilon} \\exp(u_i^T*v_c)}\\\\\n",
    "&=& \\frac{\\frac{\\partial [\\exp(u_1^T*v_c) + \\exp(u_2^T*v_c)+...\\exp(u_\\Upsilon^T*v_c)]}{\\partial v_c}}{\\sum_{i \\in \\Upsilon} \\exp(u_i^T*v_c)}\\\\\n",
    "&=& \\frac{[\\exp(u_1^T*v_c)*u_1 + \\exp(u_2^T*v_c)*u_2+...\\exp(u_\\Upsilon^T*v_c)*u_\\Upsilon]}{\\sum_{i \\in \\Upsilon} \\exp(u_i^T*v_c)}\\end{eqnarray*}$$"
   ]
  },
  {
   "cell_type": "markdown",
   "metadata": {},
   "source": [
    "> 为了避免产生混乱，分子不能再使用i进行累加表示，所以需要换索引j，最终表示为：\n",
    "$$ \\begin{eqnarray*}\\\\\n",
    "&& \\frac{\\sum_{j \\in \\Upsilon}\\exp(u_j^T*v_c)*u_j}{\\sum_{i \\in \\Upsilon}\\exp(u_i^T*v_c)}\\\\\n",
    "&=& \\sum_{j \\in \\Upsilon} \\frac {\\exp(u_j^T*v_c)*u_j} {\\sum_{i \\in \\Upsilon}\\exp(u_i^T*v_c)}\\end{eqnarray*}$$"
   ]
  },
  {
   "cell_type": "code",
   "execution_count": 6,
   "metadata": {},
   "outputs": [],
   "source": [
    "import numpy as np\n",
    "import random"
   ]
  },
  {
   "cell_type": "code",
   "execution_count": 7,
   "metadata": {},
   "outputs": [],
   "source": [
    "def softmax(x):\n",
    "    origin_shape = x.shape\n",
    "    # 根据输入的是矩阵还是向量分别计算softmax\n",
    "    if len(x.shape) > 1:\n",
    "        # 矩阵\n",
    "        tmp = np.max(x,axis=1) # 得到每行的最大值，用于缩放每行的元素，避免溢出\n",
    "        x-=tmp.reshape((x.shape[0],1)) # 使每行减去所在行的最大值（广播运算）\n",
    "\n",
    "        x = np.exp(x) # 第一步，计算所有值以e为底的x次幂\n",
    "        tmp = np.sum(x, axis = 1) # 将每行求和并保存\n",
    "        x /= tmp.reshape((x.shape[0], 1)) # 所有元素除以所在行的元素和（广播运算）\n",
    "    else:\n",
    "        # 向量\n",
    "        tmp = np.max(x) #最大值\n",
    "        x -= tmp # 利用最大值缩放数据\n",
    "        x = np.exp(x) # 对所有元素求以e为底的x次幂\n",
    "        tmp = np.sum(x)  # 求元素和\n",
    "        x /= tmp  # 求softmax\n",
    "    return x"
   ]
  },
  {
   "cell_type": "code",
   "execution_count": 8,
   "metadata": {},
   "outputs": [],
   "source": [
    "def sigmoid(x):\n",
    "    s = np.true_divide(1, 1 + np.exp(-x)) # 使用np.true_divide进行加法运算\n",
    "    return s"
   ]
  },
  {
   "cell_type": "code",
   "execution_count": 9,
   "metadata": {},
   "outputs": [],
   "source": [
    "def sigmoid_grad(s):\n",
    "    ds = s * (1 - s) # 可以证明：sigmoid函数关于输入x的导数等于`sigmoid(x)(1-sigmoid(x))`\n",
    "    return ds"
   ]
  },
  {
   "cell_type": "code",
   "execution_count": 10,
   "metadata": {},
   "outputs": [],
   "source": [
    "def softmaxCostAndGradient(predicted, target, outputVectors):\n",
    "    v_hat = predicted # 中心词向量\n",
    "    z = np.dot(outputVectors, v_hat) # 预测得分\n",
    "    y_hat = softmax(z) # 预测输出y_hat\n",
    "    \n",
    "    cost = -np.log(y_hat[target]) # 计算代价\n",
    "\n",
    "    z = y_hat.copy()\n",
    "    z[target] -= 1.0\n",
    "    grad = np.outer(z, v_hat) # 计算中心词的梯度\n",
    "    gradPred = np.dot(outputVectors.T, z) # 计算输出词向量矩阵的梯度\n",
    "\n",
    "    return cost, gradPred, grad"
   ]
  },
  {
   "cell_type": "code",
   "execution_count": 11,
   "metadata": {},
   "outputs": [],
   "source": [
    "def skipgram(currentWord, contextWords, tokens, inputVectors, outputVectors):\n",
    "    # 初始化变量\n",
    "    cost = 0.0\n",
    "    gradIn = np.zeros(inputVectors.shape)\n",
    "    gradOut = np.zeros(outputVectors.shape)\n",
    "    \n",
    "    cword_idx = tokens[currentWord] # 得到中心单词的索引\n",
    "    v_hat = inputVectors[cword_idx] # 得到中心单词的词向量\n",
    "\n",
    "    # 循环预测上下文中每个字母\n",
    "    for j in contextWords:\n",
    "        u_idx = tokens[j] # 得到目标字母的索引\n",
    "        c_cost, c_grad_in, c_grad_out = softmaxCostAndGradient(v_hat, u_idx, outputVectors) #计算一个中心字母预测一个上下文字母的情况\n",
    "        cost += c_cost # 所有代价求和\n",
    "        gradIn[cword_idx] += c_grad_in # 中心词向量梯度求和\n",
    "        gradOut += c_grad_out # 输出词向量矩阵梯度求和\n",
    "\n",
    "    return cost, gradIn, gradOut"
   ]
  },
  {
   "cell_type": "code",
   "execution_count": 12,
   "metadata": {},
   "outputs": [],
   "source": [
    "inputVectors = np.random.randn(5, 3) # 输入矩阵，语料库中字母的数量是5，我们使用3维向量表示一个字母"
   ]
  },
  {
   "cell_type": "code",
   "execution_count": 13,
   "metadata": {},
   "outputs": [],
   "source": [
    "outputVectors = np.random.randn(5, 3) # 输出矩阵"
   ]
  },
  {
   "cell_type": "code",
   "execution_count": 14,
   "metadata": {},
   "outputs": [],
   "source": [
    "sentence = ['a', 'e', 'd', 'b', 'd', 'c','d', 'e', 'e', 'c', 'a'] # 句子"
   ]
  },
  {
   "cell_type": "code",
   "execution_count": 15,
   "metadata": {},
   "outputs": [],
   "source": [
    "centerword = 'c' # 中心字母"
   ]
  },
  {
   "cell_type": "code",
   "execution_count": 16,
   "metadata": {},
   "outputs": [],
   "source": [
    "context = ['a', 'e', 'd', 'd', 'd', 'd', 'e', 'e', 'c', 'a'] # 上下文字母"
   ]
  },
  {
   "cell_type": "code",
   "execution_count": 17,
   "metadata": {},
   "outputs": [],
   "source": [
    "tokens = dict([(\"a\", 0), (\"b\", 1), (\"c\", 2), (\"d\", 3), (\"e\", 4)]) # 用于映射字母在输入输出矩阵中的索引"
   ]
  },
  {
   "cell_type": "code",
   "execution_count": 18,
   "metadata": {},
   "outputs": [],
   "source": [
    "c, gin, gout = skipgram(centerword, context, tokens, inputVectors, outputVectors)"
   ]
  },
  {
   "cell_type": "code",
   "execution_count": 28,
   "metadata": {},
   "outputs": [
    {
     "name": "stdout",
     "output_type": "stream",
     "text": [
      "cost:\n",
      " 19.72078784987426\n"
     ]
    }
   ],
   "source": [
    "print('cost:\\n',c)"
   ]
  },
  {
   "cell_type": "code",
   "execution_count": 19,
   "metadata": {},
   "outputs": [],
   "source": [
    "step = 0.01  # 更新步进 "
   ]
  },
  {
   "cell_type": "code",
   "execution_count": 20,
   "metadata": {},
   "outputs": [
    {
     "name": "stdout",
     "output_type": "stream",
     "text": [
      "原始输入矩阵：\n",
      " [[ 2.15537735  0.22705189 -0.70779433]\n",
      " [ 0.5565956  -0.63958618 -0.4353074 ]\n",
      " [-0.45958707  0.39059256 -0.64405861]\n",
      " [-0.87617474  0.33549768  0.01753119]\n",
      " [-1.25414553 -1.20423598  0.67677711]]\n"
     ]
    }
   ],
   "source": [
    "print('原始输入矩阵：\\n',inputVectors)"
   ]
  },
  {
   "cell_type": "code",
   "execution_count": 21,
   "metadata": {},
   "outputs": [
    {
     "name": "stdout",
     "output_type": "stream",
     "text": [
      "原始输出矩阵:\n",
      " [[ 1.28493742 -1.70937664  1.85814902]\n",
      " [ 0.77149052 -0.40589001 -1.33859911]\n",
      " [-0.37693518 -0.39502208  0.65294331]\n",
      " [-0.93202538  0.18278074  0.90653578]\n",
      " [ 0.64423245  0.59439968 -0.90836285]]\n"
     ]
    }
   ],
   "source": [
    "print('原始输出矩阵:\\n',outputVectors)"
   ]
  },
  {
   "cell_type": "code",
   "execution_count": 22,
   "metadata": {},
   "outputs": [],
   "source": [
    "inputVectors -= step * gin # 更新输入词向量矩阵"
   ]
  },
  {
   "cell_type": "code",
   "execution_count": 27,
   "metadata": {},
   "outputs": [
    {
     "name": "stdout",
     "output_type": "stream",
     "text": [
      "更新后的输入矩阵:\n",
      " [[ 2.15537735  0.22705189 -0.70779433]\n",
      " [ 0.5565956  -0.63958618 -0.4353074 ]\n",
      " [-0.48031441  0.37377936 -0.54953442]\n",
      " [-0.87617474  0.33549768  0.01753119]\n",
      " [-1.25414553 -1.20423598  0.67677711]]\n",
      "更新后的输出矩阵:\n",
      " [[ 1.24311004 -1.67382851  1.79953275]\n",
      " [ 0.83970098 -0.46386052 -1.24300997]\n",
      " [-0.36771428 -0.40285872  0.66586535]\n",
      " [-0.979711    0.22330767  0.83970984]\n",
      " [ 0.65631409  0.58413177 -0.89143181]]\n"
     ]
    }
   ],
   "source": [
    "outputVectors -= step * gout\n",
    "print('更新后的输入矩阵:\\n',inputVectors)\n",
    "print('更新后的输出矩阵:\\n',outputVectors)"
   ]
  },
  {
   "cell_type": "code",
   "execution_count": 29,
   "metadata": {},
   "outputs": [],
   "source": [
    "c, gin, gout = skipgram(centerword, context, tokens, inputVectors, outputVectors)"
   ]
  },
  {
   "cell_type": "code",
   "execution_count": 30,
   "metadata": {},
   "outputs": [
    {
     "name": "stdout",
     "output_type": "stream",
     "text": [
      "cost:\n",
      " 18.281287972550516\n"
     ]
    }
   ],
   "source": [
    "print('cost:\\n',c)"
   ]
  },
  {
   "cell_type": "code",
   "execution_count": 32,
   "metadata": {},
   "outputs": [],
   "source": [
    "inputVectors -= step * gin # 更新输入词向量矩阵\n",
    "outputVectors -= step * gout\n",
    "c, gin, gout = skipgram(centerword, context, tokens, inputVectors, outputVectors)"
   ]
  },
  {
   "cell_type": "code",
   "execution_count": 33,
   "metadata": {},
   "outputs": [
    {
     "name": "stdout",
     "output_type": "stream",
     "text": [
      "cost:\n",
      " 17.11762821815007\n"
     ]
    }
   ],
   "source": [
    "print('cost:\\n',c)"
   ]
  },
  {
   "cell_type": "code",
   "execution_count": 34,
   "metadata": {},
   "outputs": [],
   "source": [
    "inputVectors -= step * gin # 更新输入词向量矩阵\n",
    "outputVectors -= step * gout\n",
    "c, gin, gout = skipgram(centerword, context, tokens, inputVectors, outputVectors)"
   ]
  },
  {
   "cell_type": "code",
   "execution_count": 35,
   "metadata": {},
   "outputs": [
    {
     "name": "stdout",
     "output_type": "stream",
     "text": [
      "cost:\n",
      " 16.763198971042\n"
     ]
    }
   ],
   "source": [
    "print('cost:\\n',c)"
   ]
  },
  {
   "cell_type": "code",
   "execution_count": 41,
   "metadata": {},
   "outputs": [
    {
     "name": "stdout",
     "output_type": "stream",
     "text": [
      "cost:\n",
      " 12.799054142608371\n",
      "cost:\n",
      " 12.799007337593503\n",
      "cost:\n",
      " 12.798968005375666\n",
      "cost:\n",
      " 12.79893451731689\n",
      "cost:\n",
      " 12.798905682079734\n",
      "cost:\n",
      " 12.79888060881913\n",
      "cost:\n",
      " 12.79885861854011\n",
      "cost:\n",
      " 12.798839184980158\n",
      "cost:\n",
      " 12.798821894173951\n",
      "cost:\n",
      " 12.798806416173777\n"
     ]
    }
   ],
   "source": [
    "for i in range(10000):\n",
    "    inputVectors -= step * gin # 更新输入词向量矩阵\n",
    "    outputVectors -= step * gout\n",
    "    c, gin, gout = skipgram(centerword, context, tokens, inputVectors, outputVectors)\n",
    "    if i % 1000 == 0:\n",
    "        print('cost:\\n',c)"
   ]
  },
  {
   "cell_type": "code",
   "execution_count": 49,
   "metadata": {},
   "outputs": [
    {
     "name": "stdout",
     "output_type": "stream",
     "text": [
      "[0.         0.69314718 0.69314718 1.09861229 1.09861229 1.38629436]\n"
     ]
    },
    {
     "data": {
      "text/plain": [
       "array([0.        , 0.69314718, 0.        , 0.        , 0.        ,\n",
       "       0.        ])"
      ]
     },
     "execution_count": 49,
     "metadata": {},
     "output_type": "execute_result"
    }
   ],
   "source": [
    "xx = np.array([1,2,2,3,3,4])\n",
    "print(np.log(xx))\n",
    "yy = np.array([0,1,0,0,0,0])\n",
    "yy.T*np.log(xx)"
   ]
  },
  {
   "cell_type": "markdown",
   "metadata": {},
   "source": [
    "### tensorflow实现word2vec"
   ]
  },
  {
   "cell_type": "code",
   "execution_count": 130,
   "metadata": {},
   "outputs": [],
   "source": [
    "from __future__ import absolute_import\n",
    "from __future__ import division\n",
    "from __future__ import print_function\n",
    "\n",
    "import collections\n",
    "import math\n",
    "import os\n",
    "import random, zipfile\n",
    "import numpy as np\n",
    "from six.moves import urllib\n",
    "from six.moves import xrange\n",
    "import tensorflow as tf"
   ]
  },
  {
   "cell_type": "code",
   "execution_count": 133,
   "metadata": {
    "scrolled": true
   },
   "outputs": [
    {
     "ename": "ContentTooShortError",
     "evalue": "<urlopen error retrieval incomplete: got only 209317 out of 31344016 bytes>",
     "output_type": "error",
     "traceback": [
      "\u001b[1;31m---------------------------------------------------------------------------\u001b[0m",
      "\u001b[1;31mContentTooShortError\u001b[0m                      Traceback (most recent call last)",
      "\u001b[1;32m<ipython-input-133-33f5d63c0285>\u001b[0m in \u001b[0;36m<module>\u001b[1;34m\u001b[0m\n\u001b[0;32m     12\u001b[0m         )\n\u001b[0;32m     13\u001b[0m     \u001b[1;32mreturn\u001b[0m \u001b[0mfilename\u001b[0m\u001b[1;33m\u001b[0m\u001b[1;33m\u001b[0m\u001b[0m\n\u001b[1;32m---> 14\u001b[1;33m \u001b[0mfilename\u001b[0m \u001b[1;33m=\u001b[0m \u001b[0mmaybe_download\u001b[0m\u001b[1;33m(\u001b[0m\u001b[1;34m'text8.zip'\u001b[0m\u001b[1;33m,\u001b[0m\u001b[1;36m31344016\u001b[0m\u001b[1;33m)\u001b[0m\u001b[1;33m\u001b[0m\u001b[1;33m\u001b[0m\u001b[0m\n\u001b[0m",
      "\u001b[1;32m<ipython-input-133-33f5d63c0285>\u001b[0m in \u001b[0;36mmaybe_download\u001b[1;34m(filename, expected_bytes)\u001b[0m\n\u001b[0;32m      2\u001b[0m \u001b[1;32mdef\u001b[0m \u001b[0mmaybe_download\u001b[0m\u001b[1;33m(\u001b[0m\u001b[0mfilename\u001b[0m\u001b[1;33m,\u001b[0m \u001b[0mexpected_bytes\u001b[0m\u001b[1;33m)\u001b[0m\u001b[1;33m:\u001b[0m\u001b[1;33m\u001b[0m\u001b[1;33m\u001b[0m\u001b[0m\n\u001b[0;32m      3\u001b[0m     \u001b[1;32mif\u001b[0m \u001b[1;32mnot\u001b[0m \u001b[0mos\u001b[0m\u001b[1;33m.\u001b[0m\u001b[0mpath\u001b[0m\u001b[1;33m.\u001b[0m\u001b[0mexists\u001b[0m\u001b[1;33m(\u001b[0m\u001b[0mfilename\u001b[0m\u001b[1;33m)\u001b[0m\u001b[1;33m:\u001b[0m\u001b[1;33m\u001b[0m\u001b[1;33m\u001b[0m\u001b[0m\n\u001b[1;32m----> 4\u001b[1;33m         \u001b[0mfilename\u001b[0m\u001b[1;33m,\u001b[0m \u001b[0m_\u001b[0m \u001b[1;33m=\u001b[0m \u001b[0murllib\u001b[0m\u001b[1;33m.\u001b[0m\u001b[0mrequest\u001b[0m\u001b[1;33m.\u001b[0m\u001b[0murlretrieve\u001b[0m\u001b[1;33m(\u001b[0m\u001b[0murl\u001b[0m \u001b[1;33m+\u001b[0m \u001b[0mfilename\u001b[0m\u001b[1;33m,\u001b[0m \u001b[0mfilename\u001b[0m\u001b[1;33m)\u001b[0m\u001b[1;33m\u001b[0m\u001b[1;33m\u001b[0m\u001b[0m\n\u001b[0m\u001b[0;32m      5\u001b[0m     \u001b[0mstatinfo\u001b[0m \u001b[1;33m=\u001b[0m \u001b[0mos\u001b[0m\u001b[1;33m.\u001b[0m\u001b[0mstat\u001b[0m\u001b[1;33m(\u001b[0m\u001b[0mfilename\u001b[0m\u001b[1;33m)\u001b[0m\u001b[1;33m\u001b[0m\u001b[1;33m\u001b[0m\u001b[0m\n\u001b[0;32m      6\u001b[0m     \u001b[1;32mif\u001b[0m \u001b[0mstatinfo\u001b[0m\u001b[1;33m.\u001b[0m\u001b[0mst_size\u001b[0m \u001b[1;33m==\u001b[0m \u001b[0mexpected_bytes\u001b[0m\u001b[1;33m:\u001b[0m\u001b[1;33m\u001b[0m\u001b[1;33m\u001b[0m\u001b[0m\n",
      "\u001b[1;32mD:\\Anaconda3\\lib\\urllib\\request.py\u001b[0m in \u001b[0;36murlretrieve\u001b[1;34m(url, filename, reporthook, data)\u001b[0m\n\u001b[0;32m    286\u001b[0m         raise ContentTooShortError(\n\u001b[0;32m    287\u001b[0m             \u001b[1;34m\"retrieval incomplete: got only %i out of %i bytes\"\u001b[0m\u001b[1;33m\u001b[0m\u001b[1;33m\u001b[0m\u001b[0m\n\u001b[1;32m--> 288\u001b[1;33m             % (read, size), result)\n\u001b[0m\u001b[0;32m    289\u001b[0m \u001b[1;33m\u001b[0m\u001b[0m\n\u001b[0;32m    290\u001b[0m     \u001b[1;32mreturn\u001b[0m \u001b[0mresult\u001b[0m\u001b[1;33m\u001b[0m\u001b[1;33m\u001b[0m\u001b[0m\n",
      "\u001b[1;31mContentTooShortError\u001b[0m: <urlopen error retrieval incomplete: got only 209317 out of 31344016 bytes>"
     ]
    }
   ],
   "source": [
    "url = 'http://mattmahoney.net/dc/'\n",
    "def maybe_download(filename, expected_bytes):\n",
    "    if not os.path.exists(filename):\n",
    "        filename, _ = urllib.request.urlretrieve(url + filename, filename)\n",
    "    statinfo = os.stat(filename)\n",
    "    if statinfo.st_size == expected_bytes:\n",
    "        print(filename)\n",
    "    else:\n",
    "        print(statinfo.st_size)\n",
    "        raise Exception(\n",
    "        'Faild to verify'+filename + 'can you '\n",
    "        )\n",
    "    return filename\n",
    "filename = maybe_download('text8.zip',31344016)"
   ]
  },
  {
   "cell_type": "code",
   "execution_count": 151,
   "metadata": {
    "scrolled": true
   },
   "outputs": [],
   "source": [
    "import pandas as pd\n",
    "def read_data(filename):\n",
    "    with zipfile.ZipFile(filename) as f:\n",
    "        print(f.namelist()[0])\n",
    "        #data = pd.DataFrame(f.read(f.namelist()))\n",
    "        #data = tf.compat.as_str(f.read(f.namelist()[0])).split()\n",
    "    #return data\n",
    "\n",
    "#vocabulary = read_data('./export_sql_1558435.zip')\n",
    "#print(vocabulary[:100])\n",
    "#print('Data size', len(vocabulary))  # 总长度1700w\n"
   ]
  },
  {
   "cell_type": "markdown",
   "metadata": {},
   "source": [
    "### 制作词表"
   ]
  },
  {
   "cell_type": "code",
   "execution_count": 136,
   "metadata": {
    "scrolled": true
   },
   "outputs": [
    {
     "ename": "NameError",
     "evalue": "name 'vocabulary' is not defined",
     "output_type": "error",
     "traceback": [
      "\u001b[1;31m---------------------------------------------------------------------------\u001b[0m",
      "\u001b[1;31mNameError\u001b[0m                                 Traceback (most recent call last)",
      "\u001b[1;32m<ipython-input-136-98593dda5861>\u001b[0m in \u001b[0;36m<module>\u001b[1;34m\u001b[0m\n\u001b[0;32m     19\u001b[0m     \u001b[1;32mreturn\u001b[0m \u001b[0mdata\u001b[0m\u001b[1;33m,\u001b[0m \u001b[0mcount\u001b[0m\u001b[1;33m,\u001b[0m \u001b[0mdictionary\u001b[0m\u001b[1;33m,\u001b[0m \u001b[0mreversed_dictionary\u001b[0m\u001b[1;33m\u001b[0m\u001b[1;33m\u001b[0m\u001b[0m\n\u001b[0;32m     20\u001b[0m \u001b[1;33m\u001b[0m\u001b[0m\n\u001b[1;32m---> 21\u001b[1;33m \u001b[0mdata\u001b[0m\u001b[1;33m,\u001b[0m \u001b[0mcountm\u001b[0m\u001b[1;33m,\u001b[0m \u001b[0mdictionary\u001b[0m\u001b[1;33m,\u001b[0m \u001b[0mreversed_dictionary\u001b[0m \u001b[1;33m=\u001b[0m \u001b[0mbuild_dataset\u001b[0m\u001b[1;33m(\u001b[0m\u001b[0mvocabulary\u001b[0m\u001b[1;33m,\u001b[0m \u001b[0mvocabulary_size\u001b[0m\u001b[1;33m)\u001b[0m\u001b[1;33m\u001b[0m\u001b[1;33m\u001b[0m\u001b[0m\n\u001b[0m\u001b[0;32m     22\u001b[0m \u001b[1;33m\u001b[0m\u001b[0m\n\u001b[0;32m     23\u001b[0m \u001b[1;32mdel\u001b[0m \u001b[0mvocabulary\u001b[0m\u001b[1;33m\u001b[0m\u001b[1;33m\u001b[0m\u001b[0m\n",
      "\u001b[1;31mNameError\u001b[0m: name 'vocabulary' is not defined"
     ]
    }
   ],
   "source": [
    "vocabulary_size = 50000\n",
    "def build_dataset(words, n_words):\n",
    "    count = [['UNK', -1]]\n",
    "    count.extend(collections.Counter(words).most_common(n_words -1))\n",
    "    dictionary = dict()\n",
    "    for word, _ in count:\n",
    "        dictionary[word] = len(dictionary)\n",
    "    data = list()\n",
    "    unk_count = 0\n",
    "    for word in words:\n",
    "        if word in dictionary:\n",
    "            index = dictionary[word]\n",
    "        else:\n",
    "            index = 0  # Unk index is zero\n",
    "            unk_count += 1\n",
    "        data.append(index)\n",
    "    count[0][1] = unk_count\n",
    "    reversed_dictionary = dict(zip(dictionary.values(), dictionary.keys()))\n",
    "    return data, count, dictionary, reversed_dictionary\n",
    "\n",
    "data, countm, dictionary, reversed_dictionary = build_dataset(vocabulary, vocabulary_size)\n",
    "\n",
    "del vocabulary\n"
   ]
  },
  {
   "cell_type": "markdown",
   "metadata": {},
   "source": [
    "## 语言模型"
   ]
  },
  {
   "cell_type": "code",
   "execution_count": null,
   "metadata": {},
   "outputs": [],
   "source": []
  },
  {
   "cell_type": "markdown",
   "metadata": {},
   "source": [
    "* 语言模型就是判断一句话是否是正常的模型"
   ]
  },
  {
   "cell_type": "markdown",
   "metadata": {},
   "source": [
    "假设文本序列是$w_1,w_2,...,w_T$中的每个词是依次生成的，我们有：\n",
    "$$P(w_1,w_2,...w_T) = \\prod_{t=1}^{T} P(w_t|w_1,w_2,...w_{t-1})$$"
   ]
  },
  {
   "cell_type": "markdown",
   "metadata": {},
   "source": [
    "举例4个词的文本序列的概率是：\n",
    "$$ P(w_1,w_2,w_3,w_4) = P(w_1)P(w_2|w_1)P(w_3|w_1,w_2)P(w_4|w_1,w_2,w_3)$$"
   ]
  },
  {
   "cell_type": "markdown",
   "metadata": {},
   "source": [
    "而基于马尔科夫假设，一个词的出现只与前面n个词的有关。n为多少，得到的语言模型就是N-gram模型，1,2,3元语言模型如下表示：\n",
    "$$P(w_1,w_2,w_3,w_4) = P(w_1)P(w_2)P(w_3)P(w_4)$$\n",
    "$$P(w_1,w_2,w_3,w_4) = P(w_1)P(w_2|w_1)P(w_3|w_2)P(w_4|w_3)$$\n",
    "$$P(w_1,w_2,w_3,w_4) = P(w_1)P(w_2|w_1)P(w_3|w_1,w_2)P(w_4|w_2,w_3)$$"
   ]
  },
  {
   "cell_type": "markdown",
   "metadata": {},
   "source": [
    "> Q1:假设训练数据集中有10万个词，四元语法需要存储多少词频和多词相邻频率？\n",
    "先要理解为什么要存储？因为N-Gram的实质是查询个数，只要看一个词之前出现的词时目标词束的个数即可。那么求解结果相当于查一张表格，这个表格是对应的出现的情况<br/>\n",
    "四元表格必然是1-4元表格组成，那么这张表格有多大，就需要存储多少词频。<br/>\n",
    "很明显，表格大小为1-4元数据累计相加。\n",
    "$$10^4+10^4-1+10^4-2+10^4-3$$\n",
    "而存储多词相邻概率则需要累计2-4元的相邻词出现的次数。\n",
    "$$10^4-1+10^4-2+10^4-3$$"
   ]
  },
  {
   "cell_type": "markdown",
   "metadata": {},
   "source": [
    "## 循环神经网络"
   ]
  },
  {
   "cell_type": "markdown",
   "metadata": {},
   "source": [
    "## 利用循环神经网络创作歌词"
   ]
  },
  {
   "cell_type": "code",
   "execution_count": 70,
   "metadata": {},
   "outputs": [],
   "source": [
    "def load_data_jay_lyrics():\n",
    "    \"\"\"Load the Jay Chou lyric data set (available in the Chinese book).\"\"\"\n",
    "    with zipfile.ZipFile('./data/jaychou_lyrics.txt.zip') as zin:\n",
    "        with zin.open('jaychou_lyrics.txt') as f:\n",
    "            corpus_chars = f.read().decode('utf-8')\n",
    "    corpus_chars = corpus_chars.replace('\\n', ' ').replace('\\r', ' ')\n",
    "    corpus_chars = corpus_chars[0:10000]\n",
    "    idx_to_char = list(set(corpus_chars))\n",
    "    char_to_idx = dict([(char, i) for i, char in enumerate(idx_to_char)])\n",
    "    vocab_size = len(char_to_idx)\n",
    "    corpus_indices = [char_to_idx[char] for char in corpus_chars]\n",
    "    return corpus_indices, char_to_idx, idx_to_char, vocab_size"
   ]
  },
  {
   "cell_type": "code",
   "execution_count": 71,
   "metadata": {},
   "outputs": [],
   "source": [
    "(corpus_indices, char_to_idx, idx_to_char, vocab_size) = load_data_jay_lyrics()"
   ]
  },
  {
   "cell_type": "code",
   "execution_count": 75,
   "metadata": {},
   "outputs": [
    {
     "data": {
      "text/plain": [
       "\n",
       "[[1. 0. 0. ... 0. 0. 0.]\n",
       " [0. 0. 1. ... 0. 0. 0.]]\n",
       "<NDArray 2x1027 @cpu(0)>"
      ]
     },
     "execution_count": 75,
     "metadata": {},
     "output_type": "execute_result"
    }
   ],
   "source": [
    "nd.one_hot(nd.array([0, 2]), vocab_size)"
   ]
  },
  {
   "cell_type": "code",
   "execution_count": 77,
   "metadata": {},
   "outputs": [],
   "source": [
    "def to_onehot(X, size):\n",
    "    return [nd.one_hot(x, size) for x in X.T]"
   ]
  },
  {
   "cell_type": "code",
   "execution_count": 78,
   "metadata": {},
   "outputs": [
    {
     "data": {
      "text/plain": [
       "(5, (2, 1027))"
      ]
     },
     "execution_count": 78,
     "metadata": {},
     "output_type": "execute_result"
    }
   ],
   "source": [
    "X = nd.arange(10).reshape((2,5))\n",
    "inputs = to_onehot(X, vocab_size)\n",
    "len(inputs),inputs[0].shape"
   ]
  },
  {
   "cell_type": "code",
   "execution_count": 123,
   "metadata": {},
   "outputs": [
    {
     "data": {
      "text/plain": [
       "\n",
       "[[18. 19. 20. 21. 22. 23.]\n",
       " [ 0.  1.  2.  3.  4.  5.]]\n",
       "<NDArray 2x6 @cpu(0)>"
      ]
     },
     "execution_count": 123,
     "metadata": {},
     "output_type": "execute_result"
    }
   ],
   "source": [
    "X"
   ]
  },
  {
   "cell_type": "code",
   "execution_count": 80,
   "metadata": {},
   "outputs": [
    {
     "name": "stdout",
     "output_type": "stream",
     "text": [
      "will use cpu(0)\n"
     ]
    }
   ],
   "source": [
    "num_inputs, num_hiddens, num_outputs = vocab_size, 256, vocab_size\n",
    "ctx = d2l.try_gpu()\n",
    "print('will use', ctx)"
   ]
  },
  {
   "cell_type": "markdown",
   "metadata": {},
   "source": [
    "* 初始化模型参数"
   ]
  },
  {
   "cell_type": "code",
   "execution_count": 85,
   "metadata": {},
   "outputs": [],
   "source": [
    "def get_params():\n",
    "    def _one(shape):\n",
    "        return nd.random.normal(scale=0.01, shape=shape, ctx=ctx)\n",
    "\n",
    "    # 隐藏层参数\n",
    "    W_xh = _one((num_inputs, num_hiddens))\n",
    "    W_hh = _one((num_hiddens, num_hiddens))\n",
    "    b_h = nd.zeros(num_hiddens, ctx=ctx)\n",
    "    # 输出层参数\n",
    "    W_hq = _one((num_hiddens, num_outputs))\n",
    "    b_q = nd.zeros(num_outputs, ctx=ctx)\n",
    "    # 附上梯度\n",
    "    params = [W_xh, W_hh, b_h, W_hq, b_q]\n",
    "    for param in params:\n",
    "        param.attach_grad()\n",
    "    return params"
   ]
  },
  {
   "cell_type": "code",
   "execution_count": 86,
   "metadata": {},
   "outputs": [],
   "source": [
    "def init_rnn_state(batch_size, num_hiddens, ctx):\n",
    "    return (nd.zeros(shape=(batch_size, num_hiddens), ctx=ctx), )"
   ]
  },
  {
   "cell_type": "code",
   "execution_count": 87,
   "metadata": {},
   "outputs": [],
   "source": [
    "def rnn(inputs, state, params):\n",
    "    # inputs和outputs皆为num_steps个形状为(batch_size, vocab_size)的矩阵\n",
    "    W_xh, W_hh, b_h, W_hq, b_q = params\n",
    "    H, = state\n",
    "    outputs = []\n",
    "    for X in inputs:\n",
    "        H = nd.tanh(nd.dot(X, W_xh) + nd.dot(H, W_hh) + b_h)\n",
    "        Y = nd.dot(H, W_hq) + b_q\n",
    "        outputs.append(Y)\n",
    "    return outputs, (H,)"
   ]
  },
  {
   "cell_type": "code",
   "execution_count": 88,
   "metadata": {},
   "outputs": [
    {
     "data": {
      "text/plain": [
       "(5, (2, 1027), (2, 256))"
      ]
     },
     "execution_count": 88,
     "metadata": {},
     "output_type": "execute_result"
    }
   ],
   "source": [
    "state = init_rnn_state(X.shape[0], num_hiddens, ctx)\n",
    "inputs = to_onehot(X.as_in_context(ctx), vocab_size)\n",
    "params = get_params()\n",
    "outputs, state_new = rnn(inputs, state, params)\n",
    "len(outputs), outputs[0].shape, state_new[0].shape"
   ]
  },
  {
   "cell_type": "code",
   "execution_count": 89,
   "metadata": {},
   "outputs": [],
   "source": [
    "\n",
    "# 本函数已保存在d2lzh包中方便以后使用\n",
    "def predict_rnn(prefix, num_chars, rnn, params, init_rnn_state,\n",
    "                num_hiddens, vocab_size, ctx, idx_to_char, char_to_idx):\n",
    "    state = init_rnn_state(1, num_hiddens, ctx)\n",
    "    output = [char_to_idx[prefix[0]]]\n",
    "    for t in range(num_chars + len(prefix) - 1):\n",
    "        # 将上一时间步的输出作为当前时间步的输入\n",
    "        X = to_onehot(nd.array([output[-1]], ctx=ctx), vocab_size)\n",
    "        # 计算输出和更新隐藏状态\n",
    "        (Y, state) = rnn(X, state, params)\n",
    "        # 下一个时间步的输入是prefix里的字符或者当前的最佳预测字符\n",
    "        if t < len(prefix) - 1:\n",
    "            output.append(char_to_idx[prefix[t + 1]])\n",
    "        else:\n",
    "            output.append(int(Y[0].argmax(axis=1).asscalar()))\n",
    "    return ''.join([idx_to_char[i] for i in output])"
   ]
  },
  {
   "cell_type": "code",
   "execution_count": 90,
   "metadata": {},
   "outputs": [
    {
     "data": {
      "text/plain": [
       "'分开谢屋布图镇斯淡屋布图'"
      ]
     },
     "execution_count": 90,
     "metadata": {},
     "output_type": "execute_result"
    }
   ],
   "source": [
    "predict_rnn('分开', 10, rnn, params, init_rnn_state, num_hiddens, vocab_size,\n",
    "            ctx, idx_to_char, char_to_idx)"
   ]
  },
  {
   "cell_type": "code",
   "execution_count": 91,
   "metadata": {},
   "outputs": [],
   "source": [
    "# 本函数已保存在d2lzh包中方便以后使用\n",
    "def grad_clipping(params, theta, ctx):\n",
    "    norm = nd.array([0], ctx)\n",
    "    for param in params:\n",
    "        norm += (param.grad ** 2).sum()\n",
    "    norm = norm.sqrt().asscalar()\n",
    "    if norm > theta:\n",
    "        for param in params:\n",
    "            param.grad[:] *= theta / norm"
   ]
  },
  {
   "cell_type": "code",
   "execution_count": 92,
   "metadata": {},
   "outputs": [],
   "source": [
    "# 本函数已保存在d2lzh包中方便以后使用\n",
    "def train_and_predict_rnn(rnn, get_params, init_rnn_state, num_hiddens,\n",
    "                          vocab_size, ctx, corpus_indices, idx_to_char,\n",
    "                          char_to_idx, is_random_iter, num_epochs, num_steps,\n",
    "                          lr, clipping_theta, batch_size, pred_period,\n",
    "                          pred_len, prefixes):\n",
    "    if is_random_iter:\n",
    "        data_iter_fn = d2l.data_iter_random\n",
    "    else:\n",
    "        data_iter_fn = d2l.data_iter_consecutive\n",
    "    params = get_params()\n",
    "    loss = gloss.SoftmaxCrossEntropyLoss()\n",
    "\n",
    "    for epoch in range(num_epochs):\n",
    "        if not is_random_iter:  # 如使用相邻采样，在epoch开始时初始化隐藏状态\n",
    "            state = init_rnn_state(batch_size, num_hiddens, ctx)\n",
    "        l_sum, n, start = 0.0, 0, time.time()\n",
    "        data_iter = data_iter_fn(corpus_indices, batch_size, num_steps, ctx)\n",
    "        for X, Y in data_iter:\n",
    "            if is_random_iter:  # 如使用随机采样，在每个小批量更新前初始化隐藏状态\n",
    "                state = init_rnn_state(batch_size, num_hiddens, ctx)\n",
    "            else:  # 否则需要使用detach函数从计算图分离隐藏状态\n",
    "                for s in state:\n",
    "                    s.detach()\n",
    "            with autograd.record():\n",
    "                inputs = to_onehot(X, vocab_size)\n",
    "                # outputs有num_steps个形状为(batch_size, vocab_size)的矩阵\n",
    "                (outputs, state) = rnn(inputs, state, params)\n",
    "                # 拼接之后形状为(num_steps * batch_size, vocab_size)\n",
    "                outputs = nd.concat(*outputs, dim=0)\n",
    "                # Y的形状是(batch_size, num_steps)，转置后再变成长度为\n",
    "                # batch * num_steps 的向量，这样跟输出的行一一对应\n",
    "                y = Y.T.reshape((-1,))\n",
    "                # 使用交叉熵损失计算平均分类误差\n",
    "                l = loss(outputs, y).mean()\n",
    "            l.backward()\n",
    "            grad_clipping(params, clipping_theta, ctx)  # 裁剪梯度\n",
    "            d2l.sgd(params, lr, 1)  # 因为误差已经取过均值，梯度不用再做平均\n",
    "            l_sum += l.asscalar() * y.size\n",
    "            n += y.size\n",
    "\n",
    "        if (epoch + 1) % pred_period == 0:\n",
    "            print('epoch %d, perplexity %f, time %.2f sec' % (\n",
    "                epoch + 1, math.exp(l_sum / n), time.time() - start))\n",
    "            for prefix in prefixes:\n",
    "                print(' -', predict_rnn(\n",
    "                    prefix, pred_len, rnn, params, init_rnn_state,\n",
    "                    num_hiddens, vocab_size, ctx, idx_to_char, char_to_idx))"
   ]
  },
  {
   "cell_type": "code",
   "execution_count": 93,
   "metadata": {},
   "outputs": [],
   "source": [
    "num_epochs, num_steps, batch_size, lr, clipping_theta = 250, 35, 32, 1e2, 1e-2\n",
    "pred_period, pred_len, prefixes = 50, 50, ['分开', '不分开']"
   ]
  },
  {
   "cell_type": "code",
   "execution_count": 94,
   "metadata": {},
   "outputs": [
    {
     "name": "stdout",
     "output_type": "stream",
     "text": [
      "epoch 50, perplexity 69.441625, time 2.91 sec\n",
      " - 分开 我不要再想你 不知 我不能再 你么不人 你有我 别怪我 一子就人 我不想 你爱么 我不要再不 我不\n",
      " - 不分开 你不么 一沉两 我不要再不 我不要再想 我不要再想 我不要再想 我不要再想 我不要再想 我不要再想\n",
      "epoch 100, perplexity 9.716446, time 2.44 sec\n",
      " - 分开 一直的可栈人  爱穿了的手剩 我说要你二 三两银够不够 景色入秋 你已经离开我 不知不觉 你已经这\n",
      " - 不分开堡 我不要再想你 不知不觉 你已经离开我 不知不觉 你已经离开我 不知不觉 你已经离开我 不知不觉 \n",
      "epoch 150, perplexity 2.848773, time 2.38 sec\n",
      " - 分开 一直两不截  静悔你在我有多难熬多烦恼  没有你烦 我有多烦恼  没有你在我有多难熬多烦恼  没有\n",
      " - 不分开吗 我叫你爸 你打我妈 这样种吗去 我将往事不离 如果我遇见你是一场悲剧 我可以让生命就这样过  爸\n",
      "epoch 200, perplexity 1.543941, time 2.33 sec\n",
      " - 分开的凯都 我有在小来 看两银够不够 景色入秋 漫天黄沙凉棍 哼哼哈兮 如果我有轻功 飞檐走壁 为人耿直\n",
      " - 不分开简 我后你爸 你打我妈 这样对吗干嘛这样 还必让酒牵边子走 瞎 说手你烦我妈要 却小的耳濡目下 想要\n",
      "epoch 250, perplexity 1.369471, time 2.33 sec\n",
      " - 分开的凯黄 我有在风静 看两银够不够 景色入秋 漫天黄沙凉棍 哼哼哈兮 如果我有轻功 飞檐走壁 为人耿直\n",
      " - 不分开期把的胖女巫 用拉丁文念咒语啦啦呜 她养的黑猫笑起来像哭 啦啦啦呜 是谁我不见的菸  古著的让我有动\n"
     ]
    }
   ],
   "source": [
    "train_and_predict_rnn(rnn, get_params, init_rnn_state, num_hiddens,\n",
    "                      vocab_size, ctx, corpus_indices, idx_to_char,\n",
    "                      char_to_idx, True, num_epochs, num_steps, lr,\n",
    "                      clipping_theta, batch_size, pred_period, pred_len,\n",
    "                      prefixes)"
   ]
  },
  {
   "cell_type": "code",
   "execution_count": 95,
   "metadata": {},
   "outputs": [
    {
     "name": "stdout",
     "output_type": "stream",
     "text": [
      "epoch 50, perplexity 64.675214, time 2.64 sec\n",
      " - 分开 我不要再想你我 我想能的爱写我人 我想我这想你 一直在 一沉两 我想我的爱写 我有你的爱写 我有你\n",
      " - 不分开 我不要的爱写 我有你的爱写 我有你的让我 一知的客我 你不能够 我有你的 我有我有 你有我有 你有\n",
      "epoch 100, perplexity 7.609210, time 2.88 sec\n",
      " - 分开 我说想这是 我不能再想 我不能再想 我不 我不 我不要再想你 是你 是你开久了吧 不通 却又意考倒\n",
      " - 不分开离 你已经很我遇 这生情文 快谁用外 一人内空 你一定梦 在一定容 我有的梦 我想了带 你已不发 你\n",
      "epoch 150, perplexity 2.149840, time 2.35 sec\n",
      " - 分开 我不要这样向 我知你口天小 静静话悄我都你爸 我真的看不侬 我怀你烦国小 静知不  说知经人开我 \n",
      " - 不分开觉 你已经离开我 不知不觉 我跟了这节奏 后知后觉 又过了一个秋 后知后觉 我该好好生活 我该好好生\n",
      "epoch 200, perplexity 1.305405, time 2.32 sec\n",
      " - 分开 我候开这是对 我知你悄国活 什透都靠 得使用双截棍 哼哼哈兮 如使用双截棍 哼哼哈兮 如使用双截棍\n",
      " - 不分开觉 你已经离开我 不知不觉 我跟了这节奏 后知后觉 又过了一个秋 后知后觉 我该好好生活 我该好好生\n",
      "epoch 250, perplexity 1.167078, time 2.33 sec\n",
      " - 分开 问候到 它打我的起头 我有到看医药你说肉 草原上两只敌对野牛在远方决斗 在一处被废弃的白蛦丘 站着\n",
      " - 不分开觉 你已经离开我 不知不觉 我跟了这节奏 后知后觉 又过了一个秋 后知后觉 我该好好生活 我该好好生\n"
     ]
    }
   ],
   "source": [
    "train_and_predict_rnn(rnn, get_params, init_rnn_state, num_hiddens,\n",
    "                      vocab_size, ctx, corpus_indices, idx_to_char,\n",
    "                      char_to_idx, False, num_epochs, num_steps, lr,\n",
    "                      clipping_theta, batch_size, pred_period, pred_len,\n",
    "                      prefixes)"
   ]
  },
  {
   "cell_type": "markdown",
   "metadata": {},
   "source": [
    "### 创作歌词"
   ]
  },
  {
   "cell_type": "code",
   "execution_count": 97,
   "metadata": {},
   "outputs": [],
   "source": [
    "from mxnet import nd\n",
    "import random\n",
    "import zipfile\n",
    "with zipfile.ZipFile('./data/jaychou_lyrics.txt.zip') as zin:\n",
    "    with zin.open('jaychou_lyrics.txt') as f:\n",
    "        corpus_chars = f.read().decode('utf-8')"
   ]
  },
  {
   "cell_type": "code",
   "execution_count": 103,
   "metadata": {},
   "outputs": [],
   "source": [
    "corpus_chars = corpus_chars.replace('\\n', ' ').replace('\\r',' ')"
   ]
  },
  {
   "cell_type": "code",
   "execution_count": 104,
   "metadata": {},
   "outputs": [],
   "source": [
    "corpus_chars = corpus_chars[0:10000]"
   ]
  },
  {
   "cell_type": "markdown",
   "metadata": {},
   "source": [
    "*corpus_chars前10K字符当做训练集*"
   ]
  },
  {
   "cell_type": "code",
   "execution_count": 107,
   "metadata": {},
   "outputs": [
    {
     "data": {
      "text/plain": [
       "1027"
      ]
     },
     "execution_count": 107,
     "metadata": {},
     "output_type": "execute_result"
    }
   ],
   "source": [
    "idx_to_char = list(set(corpus_chars))\n",
    "char_to_idx = dict([(char, i) for i, char in enumerate(idx_to_char)])\n",
    "vocab_size = len(char_to_idx)\n",
    "vocab_size"
   ]
  },
  {
   "cell_type": "code",
   "execution_count": 108,
   "metadata": {},
   "outputs": [
    {
     "data": {
      "text/plain": [
       "'想要有直升机 想要和'"
      ]
     },
     "execution_count": 108,
     "metadata": {},
     "output_type": "execute_result"
    }
   ],
   "source": [
    "corpus_chars[:10]"
   ]
  },
  {
   "cell_type": "code",
   "execution_count": 110,
   "metadata": {},
   "outputs": [],
   "source": [
    "corpus_indices = [ idx_to_char.index(i) for i in corpus_chars if i != ' ']"
   ]
  },
  {
   "cell_type": "code",
   "execution_count": 111,
   "metadata": {},
   "outputs": [
    {
     "data": {
      "text/plain": [
       "[440, 274, 360, 452, 242, 566, 440, 274, 224, 700]"
      ]
     },
     "execution_count": 111,
     "metadata": {},
     "output_type": "execute_result"
    }
   ],
   "source": [
    "corpus_indices[:10]"
   ]
  },
  {
   "cell_type": "code",
   "execution_count": 112,
   "metadata": {},
   "outputs": [],
   "source": [
    "corpus_indices = [char_to_idx[char] for char in corpus_chars]"
   ]
  },
  {
   "cell_type": "code",
   "execution_count": 117,
   "metadata": {},
   "outputs": [
    {
     "data": {
      "text/plain": [
       "[440, 274, 360, 452, 242, 566, 239, 440, 274, 224]"
      ]
     },
     "execution_count": 117,
     "metadata": {},
     "output_type": "execute_result"
    }
   ],
   "source": [
    "corpus_indices[:10]"
   ]
  },
  {
   "cell_type": "code",
   "execution_count": 116,
   "metadata": {},
   "outputs": [],
   "source": [
    "corpus_indices = [char_to_idx[char] for char in corpus_chars]"
   ]
  },
  {
   "cell_type": "markdown",
   "metadata": {},
   "source": [
    "### 时序数据的采样"
   ]
  },
  {
   "cell_type": "markdown",
   "metadata": {},
   "source": [
    "* 随机采样"
   ]
  },
  {
   "cell_type": "code",
   "execution_count": 118,
   "metadata": {},
   "outputs": [],
   "source": [
    "# 本函数已保存在d2lzh包中方便以后使用\n",
    "def data_iter_random(corpus_indices, batch_size, num_steps, ctx=None):\n",
    "    # 减1是因为输出的索引是相应输入的索引加1\n",
    "    num_examples = (len(corpus_indices) - 1) // num_steps\n",
    "    epoch_size = num_examples // batch_size\n",
    "    example_indices = list(range(num_examples))\n",
    "    random.shuffle(example_indices)\n",
    "\n",
    "    # 返回从pos开始的长为num_steps的序列\n",
    "    def _data(pos):\n",
    "        return corpus_indices[pos: pos + num_steps]\n",
    "\n",
    "    for i in range(epoch_size):\n",
    "        # 每次读取batch_size个随机样本\n",
    "        i = i * batch_size\n",
    "        batch_indices = example_indices[i: i + batch_size]\n",
    "        X = [_data(j * num_steps) for j in batch_indices]\n",
    "        Y = [_data(j * num_steps + 1) for j in batch_indices]\n",
    "        yield nd.array(X, ctx), nd.array(Y, ctx)"
   ]
  },
  {
   "cell_type": "code",
   "execution_count": 120,
   "metadata": {},
   "outputs": [
    {
     "name": "stdout",
     "output_type": "stream",
     "text": [
      "X: \n",
      "[[ 6.  7.  8.  9. 10. 11.]\n",
      " [12. 13. 14. 15. 16. 17.]]\n",
      "<NDArray 2x6 @cpu(0)> \n",
      "Y: \n",
      "[[ 7.  8.  9. 10. 11. 12.]\n",
      " [13. 14. 15. 16. 17. 18.]]\n",
      "<NDArray 2x6 @cpu(0)> \n",
      "\n",
      "X: \n",
      "[[18. 19. 20. 21. 22. 23.]\n",
      " [ 0.  1.  2.  3.  4.  5.]]\n",
      "<NDArray 2x6 @cpu(0)> \n",
      "Y: \n",
      "[[19. 20. 21. 22. 23. 24.]\n",
      " [ 1.  2.  3.  4.  5.  6.]]\n",
      "<NDArray 2x6 @cpu(0)> \n",
      "\n"
     ]
    }
   ],
   "source": [
    "myseq = list(range(30))\n",
    "for X, Y in data_iter_random(myseq, batch_size=2, num_steps=6):\n",
    "    print('X:',X, '\\nY:',Y,'\\n')"
   ]
  },
  {
   "cell_type": "markdown",
   "metadata": {},
   "source": [
    "* 相邻采样"
   ]
  },
  {
   "cell_type": "code",
   "execution_count": 121,
   "metadata": {},
   "outputs": [],
   "source": [
    "# 本函数已保存在d2lzh包中方便以后使用\n",
    "def data_iter_consecutive(corpus_indices, batch_size, num_steps, ctx=None):\n",
    "    corpus_indices = nd.array(corpus_indices, ctx=ctx)\n",
    "    data_len = len(corpus_indices)\n",
    "    batch_len = data_len // batch_size\n",
    "    indices = corpus_indices[0: batch_size*batch_len].reshape((\n",
    "        batch_size, batch_len))\n",
    "    epoch_size = (batch_len - 1) // num_steps\n",
    "    for i in range(epoch_size):\n",
    "        i = i * num_steps\n",
    "        X = indices[:, i: i + num_steps]\n",
    "        Y = indices[:, i + 1: i + num_steps + 1]\n",
    "        yield X, Y"
   ]
  },
  {
   "cell_type": "code",
   "execution_count": 122,
   "metadata": {},
   "outputs": [
    {
     "name": "stdout",
     "output_type": "stream",
     "text": [
      "X: \n",
      "[[ 6.  7.  8.  9. 10. 11.]\n",
      " [12. 13. 14. 15. 16. 17.]]\n",
      "<NDArray 2x6 @cpu(0)> \n",
      "Y: \n",
      "[[ 7.  8.  9. 10. 11. 12.]\n",
      " [13. 14. 15. 16. 17. 18.]]\n",
      "<NDArray 2x6 @cpu(0)> \n",
      "\n",
      "X: \n",
      "[[18. 19. 20. 21. 22. 23.]\n",
      " [ 0.  1.  2.  3.  4.  5.]]\n",
      "<NDArray 2x6 @cpu(0)> \n",
      "Y: \n",
      "[[19. 20. 21. 22. 23. 24.]\n",
      " [ 1.  2.  3.  4.  5.  6.]]\n",
      "<NDArray 2x6 @cpu(0)> \n",
      "\n"
     ]
    }
   ],
   "source": [
    "myseq = list(range(30))\n",
    "for X, Y in data_iter_random(myseq, batch_size=2, num_steps=6):\n",
    "    print('X:',X, '\\nY:',Y,'\\n')"
   ]
  },
  {
   "cell_type": "markdown",
   "metadata": {},
   "source": [
    "### 在tensorflow中进行实践序列预测"
   ]
  },
  {
   "cell_type": "markdown",
   "metadata": {},
   "source": [
    "### Encoder-decoder"
   ]
  },
  {
   "cell_type": "code",
   "execution_count": 13,
   "metadata": {
    "scrolled": true
   },
   "outputs": [
    {
     "data": {
      "text/plain": [
       "1"
      ]
     },
     "execution_count": 13,
     "metadata": {},
     "output_type": "execute_result"
    }
   ],
   "source": [
    "import os\n",
    "os.system('./nmt-master/nmt/scripts/download_iwslt15.sh')"
   ]
  }
 ],
 "metadata": {
  "kernelspec": {
   "display_name": "Python 3",
   "language": "python",
   "name": "python3"
  },
  "language_info": {
   "codemirror_mode": {
    "name": "ipython",
    "version": 3
   },
   "file_extension": ".py",
   "mimetype": "text/x-python",
   "name": "python",
   "nbconvert_exporter": "python",
   "pygments_lexer": "ipython3",
   "version": "3.7.3"
  }
 },
 "nbformat": 4,
 "nbformat_minor": 2
}
